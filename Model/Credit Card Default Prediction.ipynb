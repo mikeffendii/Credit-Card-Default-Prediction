{
 "cells": [
  {
   "cell_type": "markdown",
   "id": "e5192baa",
   "metadata": {
    "papermill": {
     "duration": 0.020264,
     "end_time": "2022-11-22T18:08:58.187975",
     "exception": false,
     "start_time": "2022-11-22T18:08:58.167711",
     "status": "completed"
    },
    "tags": []
   },
   "source": [
    "<h1 style=\"color:orange\" align=\"center\">Credit Card Default Prediction </h1>"
   ]
  },
  {
   "cell_type": "code",
   "execution_count": 1,
   "id": "f0272e1f",
   "metadata": {
    "execution": {
     "iopub.execute_input": "2022-11-22T18:08:58.224381Z",
     "iopub.status.busy": "2022-11-22T18:08:58.223807Z",
     "iopub.status.idle": "2022-11-22T18:09:00.269733Z",
     "shell.execute_reply": "2022-11-22T18:09:00.268262Z"
    },
    "papermill": {
     "duration": 2.067518,
     "end_time": "2022-11-22T18:09:00.272939",
     "exception": false,
     "start_time": "2022-11-22T18:08:58.205421",
     "status": "completed"
    },
    "tags": []
   },
   "outputs": [],
   "source": [
    "import pandas as pd\n",
    "import numpy as np\n",
    "import warnings\n",
    "warnings.filterwarnings(\"ignore\")\n",
    "\n",
    "import matplotlib.pyplot as plt\n",
    "%matplotlib inline\n",
    "import seaborn as sns\n",
    "\n",
    "from sklearn.linear_model import LogisticRegression\n",
    "from sklearn.ensemble import RandomForestClassifier\n",
    "from xgboost import XGBClassifier\n",
    "from sklearn.naive_bayes import GaussianNB\n",
    "from sklearn.neighbors import KNeighborsClassifier\n",
    "from imblearn.under_sampling import EditedNearestNeighbours\n",
    "from sklearn.tree import DecisionTreeClassifier\n",
    "from sklearn.svm import SVC\n",
    "\n",
    "from sklearn.model_selection import train_test_split\n",
    "from sklearn.model_selection import GridSearchCV\n",
    "from sklearn.model_selection import StratifiedKFold\n",
    "from sklearn.model_selection import RepeatedStratifiedKFold\n",
    "from imblearn.over_sampling import SMOTE\n",
    "from imblearn.combine import SMOTETomek\n",
    "#from imblearn.under_sampling import SMOTE\n",
    "\n",
    "from sklearn.compose import ColumnTransformer\n",
    "from sklearn.preprocessing import PowerTransformer\n",
    "\n",
    "from sklearn.metrics import classification_report, confusion_matrix, precision_recall_curve, auc, f1_score, make_scorer\n",
    "from sklearn.metrics import accuracy_score, precision_score,recall_score, roc_auc_score, plot_confusion_matrix"
   ]
  },
  {
   "cell_type": "markdown",
   "id": "6c0e7255",
   "metadata": {
    "papermill": {
     "duration": 0.016478,
     "end_time": "2022-11-22T18:09:00.306448",
     "exception": false,
     "start_time": "2022-11-22T18:09:00.289970",
     "status": "completed"
    },
    "tags": []
   },
   "source": [
    "<h1 style=\"color:orange\" align=\"center\">Loading the Dataset"
   ]
  },
  {
   "cell_type": "code",
   "execution_count": 2,
   "id": "165635d9",
   "metadata": {
    "execution": {
     "iopub.execute_input": "2022-11-22T18:09:00.343527Z",
     "iopub.status.busy": "2022-11-22T18:09:00.343095Z",
     "iopub.status.idle": "2022-11-22T18:09:00.565866Z",
     "shell.execute_reply": "2022-11-22T18:09:00.564887Z"
    },
    "papermill": {
     "duration": 0.243958,
     "end_time": "2022-11-22T18:09:00.568557",
     "exception": false,
     "start_time": "2022-11-22T18:09:00.324599",
     "status": "completed"
    },
    "tags": []
   },
   "outputs": [
    {
     "data": {
      "text/html": [
       "<div>\n",
       "<style scoped>\n",
       "    .dataframe tbody tr th:only-of-type {\n",
       "        vertical-align: middle;\n",
       "    }\n",
       "\n",
       "    .dataframe tbody tr th {\n",
       "        vertical-align: top;\n",
       "    }\n",
       "\n",
       "    .dataframe thead th {\n",
       "        text-align: right;\n",
       "    }\n",
       "</style>\n",
       "<table border=\"1\" class=\"dataframe\">\n",
       "  <thead>\n",
       "    <tr style=\"text-align: right;\">\n",
       "      <th></th>\n",
       "      <th>ID</th>\n",
       "      <th>LIMIT_BAL</th>\n",
       "      <th>SEX</th>\n",
       "      <th>EDUCATION</th>\n",
       "      <th>MARRIAGE</th>\n",
       "      <th>AGE</th>\n",
       "      <th>PAY_0</th>\n",
       "      <th>PAY_2</th>\n",
       "      <th>PAY_3</th>\n",
       "      <th>PAY_4</th>\n",
       "      <th>...</th>\n",
       "      <th>BILL_AMT4</th>\n",
       "      <th>BILL_AMT5</th>\n",
       "      <th>BILL_AMT6</th>\n",
       "      <th>PAY_AMT1</th>\n",
       "      <th>PAY_AMT2</th>\n",
       "      <th>PAY_AMT3</th>\n",
       "      <th>PAY_AMT4</th>\n",
       "      <th>PAY_AMT5</th>\n",
       "      <th>PAY_AMT6</th>\n",
       "      <th>default.payment.next.month</th>\n",
       "    </tr>\n",
       "  </thead>\n",
       "  <tbody>\n",
       "    <tr>\n",
       "      <th>0</th>\n",
       "      <td>1</td>\n",
       "      <td>20000.0</td>\n",
       "      <td>2</td>\n",
       "      <td>2</td>\n",
       "      <td>1</td>\n",
       "      <td>24</td>\n",
       "      <td>2</td>\n",
       "      <td>2</td>\n",
       "      <td>-1</td>\n",
       "      <td>-1</td>\n",
       "      <td>...</td>\n",
       "      <td>0.0</td>\n",
       "      <td>0.0</td>\n",
       "      <td>0.0</td>\n",
       "      <td>0.0</td>\n",
       "      <td>689.0</td>\n",
       "      <td>0.0</td>\n",
       "      <td>0.0</td>\n",
       "      <td>0.0</td>\n",
       "      <td>0.0</td>\n",
       "      <td>1</td>\n",
       "    </tr>\n",
       "    <tr>\n",
       "      <th>1</th>\n",
       "      <td>2</td>\n",
       "      <td>120000.0</td>\n",
       "      <td>2</td>\n",
       "      <td>2</td>\n",
       "      <td>2</td>\n",
       "      <td>26</td>\n",
       "      <td>-1</td>\n",
       "      <td>2</td>\n",
       "      <td>0</td>\n",
       "      <td>0</td>\n",
       "      <td>...</td>\n",
       "      <td>3272.0</td>\n",
       "      <td>3455.0</td>\n",
       "      <td>3261.0</td>\n",
       "      <td>0.0</td>\n",
       "      <td>1000.0</td>\n",
       "      <td>1000.0</td>\n",
       "      <td>1000.0</td>\n",
       "      <td>0.0</td>\n",
       "      <td>2000.0</td>\n",
       "      <td>1</td>\n",
       "    </tr>\n",
       "    <tr>\n",
       "      <th>2</th>\n",
       "      <td>3</td>\n",
       "      <td>90000.0</td>\n",
       "      <td>2</td>\n",
       "      <td>2</td>\n",
       "      <td>2</td>\n",
       "      <td>34</td>\n",
       "      <td>0</td>\n",
       "      <td>0</td>\n",
       "      <td>0</td>\n",
       "      <td>0</td>\n",
       "      <td>...</td>\n",
       "      <td>14331.0</td>\n",
       "      <td>14948.0</td>\n",
       "      <td>15549.0</td>\n",
       "      <td>1518.0</td>\n",
       "      <td>1500.0</td>\n",
       "      <td>1000.0</td>\n",
       "      <td>1000.0</td>\n",
       "      <td>1000.0</td>\n",
       "      <td>5000.0</td>\n",
       "      <td>0</td>\n",
       "    </tr>\n",
       "    <tr>\n",
       "      <th>3</th>\n",
       "      <td>4</td>\n",
       "      <td>50000.0</td>\n",
       "      <td>2</td>\n",
       "      <td>2</td>\n",
       "      <td>1</td>\n",
       "      <td>37</td>\n",
       "      <td>0</td>\n",
       "      <td>0</td>\n",
       "      <td>0</td>\n",
       "      <td>0</td>\n",
       "      <td>...</td>\n",
       "      <td>28314.0</td>\n",
       "      <td>28959.0</td>\n",
       "      <td>29547.0</td>\n",
       "      <td>2000.0</td>\n",
       "      <td>2019.0</td>\n",
       "      <td>1200.0</td>\n",
       "      <td>1100.0</td>\n",
       "      <td>1069.0</td>\n",
       "      <td>1000.0</td>\n",
       "      <td>0</td>\n",
       "    </tr>\n",
       "    <tr>\n",
       "      <th>4</th>\n",
       "      <td>5</td>\n",
       "      <td>50000.0</td>\n",
       "      <td>1</td>\n",
       "      <td>2</td>\n",
       "      <td>1</td>\n",
       "      <td>57</td>\n",
       "      <td>-1</td>\n",
       "      <td>0</td>\n",
       "      <td>-1</td>\n",
       "      <td>0</td>\n",
       "      <td>...</td>\n",
       "      <td>20940.0</td>\n",
       "      <td>19146.0</td>\n",
       "      <td>19131.0</td>\n",
       "      <td>2000.0</td>\n",
       "      <td>36681.0</td>\n",
       "      <td>10000.0</td>\n",
       "      <td>9000.0</td>\n",
       "      <td>689.0</td>\n",
       "      <td>679.0</td>\n",
       "      <td>0</td>\n",
       "    </tr>\n",
       "    <tr>\n",
       "      <th>5</th>\n",
       "      <td>6</td>\n",
       "      <td>50000.0</td>\n",
       "      <td>1</td>\n",
       "      <td>1</td>\n",
       "      <td>2</td>\n",
       "      <td>37</td>\n",
       "      <td>0</td>\n",
       "      <td>0</td>\n",
       "      <td>0</td>\n",
       "      <td>0</td>\n",
       "      <td>...</td>\n",
       "      <td>19394.0</td>\n",
       "      <td>19619.0</td>\n",
       "      <td>20024.0</td>\n",
       "      <td>2500.0</td>\n",
       "      <td>1815.0</td>\n",
       "      <td>657.0</td>\n",
       "      <td>1000.0</td>\n",
       "      <td>1000.0</td>\n",
       "      <td>800.0</td>\n",
       "      <td>0</td>\n",
       "    </tr>\n",
       "    <tr>\n",
       "      <th>6</th>\n",
       "      <td>7</td>\n",
       "      <td>500000.0</td>\n",
       "      <td>1</td>\n",
       "      <td>1</td>\n",
       "      <td>2</td>\n",
       "      <td>29</td>\n",
       "      <td>0</td>\n",
       "      <td>0</td>\n",
       "      <td>0</td>\n",
       "      <td>0</td>\n",
       "      <td>...</td>\n",
       "      <td>542653.0</td>\n",
       "      <td>483003.0</td>\n",
       "      <td>473944.0</td>\n",
       "      <td>55000.0</td>\n",
       "      <td>40000.0</td>\n",
       "      <td>38000.0</td>\n",
       "      <td>20239.0</td>\n",
       "      <td>13750.0</td>\n",
       "      <td>13770.0</td>\n",
       "      <td>0</td>\n",
       "    </tr>\n",
       "    <tr>\n",
       "      <th>7</th>\n",
       "      <td>8</td>\n",
       "      <td>100000.0</td>\n",
       "      <td>2</td>\n",
       "      <td>2</td>\n",
       "      <td>2</td>\n",
       "      <td>23</td>\n",
       "      <td>0</td>\n",
       "      <td>-1</td>\n",
       "      <td>-1</td>\n",
       "      <td>0</td>\n",
       "      <td>...</td>\n",
       "      <td>221.0</td>\n",
       "      <td>-159.0</td>\n",
       "      <td>567.0</td>\n",
       "      <td>380.0</td>\n",
       "      <td>601.0</td>\n",
       "      <td>0.0</td>\n",
       "      <td>581.0</td>\n",
       "      <td>1687.0</td>\n",
       "      <td>1542.0</td>\n",
       "      <td>0</td>\n",
       "    </tr>\n",
       "    <tr>\n",
       "      <th>8</th>\n",
       "      <td>9</td>\n",
       "      <td>140000.0</td>\n",
       "      <td>2</td>\n",
       "      <td>3</td>\n",
       "      <td>1</td>\n",
       "      <td>28</td>\n",
       "      <td>0</td>\n",
       "      <td>0</td>\n",
       "      <td>2</td>\n",
       "      <td>0</td>\n",
       "      <td>...</td>\n",
       "      <td>12211.0</td>\n",
       "      <td>11793.0</td>\n",
       "      <td>3719.0</td>\n",
       "      <td>3329.0</td>\n",
       "      <td>0.0</td>\n",
       "      <td>432.0</td>\n",
       "      <td>1000.0</td>\n",
       "      <td>1000.0</td>\n",
       "      <td>1000.0</td>\n",
       "      <td>0</td>\n",
       "    </tr>\n",
       "    <tr>\n",
       "      <th>9</th>\n",
       "      <td>10</td>\n",
       "      <td>20000.0</td>\n",
       "      <td>1</td>\n",
       "      <td>3</td>\n",
       "      <td>2</td>\n",
       "      <td>35</td>\n",
       "      <td>-2</td>\n",
       "      <td>-2</td>\n",
       "      <td>-2</td>\n",
       "      <td>-2</td>\n",
       "      <td>...</td>\n",
       "      <td>0.0</td>\n",
       "      <td>13007.0</td>\n",
       "      <td>13912.0</td>\n",
       "      <td>0.0</td>\n",
       "      <td>0.0</td>\n",
       "      <td>0.0</td>\n",
       "      <td>13007.0</td>\n",
       "      <td>1122.0</td>\n",
       "      <td>0.0</td>\n",
       "      <td>0</td>\n",
       "    </tr>\n",
       "  </tbody>\n",
       "</table>\n",
       "<p>10 rows × 25 columns</p>\n",
       "</div>"
      ],
      "text/plain": [
       "   ID  LIMIT_BAL  SEX  EDUCATION  MARRIAGE  AGE  PAY_0  PAY_2  PAY_3  PAY_4  \\\n",
       "0   1    20000.0    2          2         1   24      2      2     -1     -1   \n",
       "1   2   120000.0    2          2         2   26     -1      2      0      0   \n",
       "2   3    90000.0    2          2         2   34      0      0      0      0   \n",
       "3   4    50000.0    2          2         1   37      0      0      0      0   \n",
       "4   5    50000.0    1          2         1   57     -1      0     -1      0   \n",
       "5   6    50000.0    1          1         2   37      0      0      0      0   \n",
       "6   7   500000.0    1          1         2   29      0      0      0      0   \n",
       "7   8   100000.0    2          2         2   23      0     -1     -1      0   \n",
       "8   9   140000.0    2          3         1   28      0      0      2      0   \n",
       "9  10    20000.0    1          3         2   35     -2     -2     -2     -2   \n",
       "\n",
       "   ...  BILL_AMT4  BILL_AMT5  BILL_AMT6  PAY_AMT1  PAY_AMT2  PAY_AMT3  \\\n",
       "0  ...        0.0        0.0        0.0       0.0     689.0       0.0   \n",
       "1  ...     3272.0     3455.0     3261.0       0.0    1000.0    1000.0   \n",
       "2  ...    14331.0    14948.0    15549.0    1518.0    1500.0    1000.0   \n",
       "3  ...    28314.0    28959.0    29547.0    2000.0    2019.0    1200.0   \n",
       "4  ...    20940.0    19146.0    19131.0    2000.0   36681.0   10000.0   \n",
       "5  ...    19394.0    19619.0    20024.0    2500.0    1815.0     657.0   \n",
       "6  ...   542653.0   483003.0   473944.0   55000.0   40000.0   38000.0   \n",
       "7  ...      221.0     -159.0      567.0     380.0     601.0       0.0   \n",
       "8  ...    12211.0    11793.0     3719.0    3329.0       0.0     432.0   \n",
       "9  ...        0.0    13007.0    13912.0       0.0       0.0       0.0   \n",
       "\n",
       "   PAY_AMT4  PAY_AMT5  PAY_AMT6  default.payment.next.month  \n",
       "0       0.0       0.0       0.0                           1  \n",
       "1    1000.0       0.0    2000.0                           1  \n",
       "2    1000.0    1000.0    5000.0                           0  \n",
       "3    1100.0    1069.0    1000.0                           0  \n",
       "4    9000.0     689.0     679.0                           0  \n",
       "5    1000.0    1000.0     800.0                           0  \n",
       "6   20239.0   13750.0   13770.0                           0  \n",
       "7     581.0    1687.0    1542.0                           0  \n",
       "8    1000.0    1000.0    1000.0                           0  \n",
       "9   13007.0    1122.0       0.0                           0  \n",
       "\n",
       "[10 rows x 25 columns]"
      ]
     },
     "execution_count": 2,
     "metadata": {},
     "output_type": "execute_result"
    }
   ],
   "source": [
    "df1 = pd.read_csv(\"../input/default-of-credit-card-clients-dataset/UCI_Credit_Card.csv\")\n",
    "df1.head(10)"
   ]
  },
  {
   "cell_type": "code",
   "execution_count": 3,
   "id": "91ab29a2",
   "metadata": {
    "execution": {
     "iopub.execute_input": "2022-11-22T18:09:00.606791Z",
     "iopub.status.busy": "2022-11-22T18:09:00.605965Z",
     "iopub.status.idle": "2022-11-22T18:09:00.613419Z",
     "shell.execute_reply": "2022-11-22T18:09:00.612292Z"
    },
    "papermill": {
     "duration": 0.029549,
     "end_time": "2022-11-22T18:09:00.615932",
     "exception": false,
     "start_time": "2022-11-22T18:09:00.586383",
     "status": "completed"
    },
    "tags": []
   },
   "outputs": [
    {
     "data": {
      "text/plain": [
       "(30000, 25)"
      ]
     },
     "execution_count": 3,
     "metadata": {},
     "output_type": "execute_result"
    }
   ],
   "source": [
    "df1.shape"
   ]
  },
  {
   "cell_type": "code",
   "execution_count": 4,
   "id": "ea4997f4",
   "metadata": {
    "execution": {
     "iopub.execute_input": "2022-11-22T18:09:00.653593Z",
     "iopub.status.busy": "2022-11-22T18:09:00.653170Z",
     "iopub.status.idle": "2022-11-22T18:09:00.681564Z",
     "shell.execute_reply": "2022-11-22T18:09:00.679919Z"
    },
    "papermill": {
     "duration": 0.051134,
     "end_time": "2022-11-22T18:09:00.685321",
     "exception": false,
     "start_time": "2022-11-22T18:09:00.634187",
     "status": "completed"
    },
    "tags": []
   },
   "outputs": [
    {
     "name": "stdout",
     "output_type": "stream",
     "text": [
      "<class 'pandas.core.frame.DataFrame'>\n",
      "RangeIndex: 30000 entries, 0 to 29999\n",
      "Data columns (total 25 columns):\n",
      " #   Column                      Non-Null Count  Dtype  \n",
      "---  ------                      --------------  -----  \n",
      " 0   ID                          30000 non-null  int64  \n",
      " 1   LIMIT_BAL                   30000 non-null  float64\n",
      " 2   SEX                         30000 non-null  int64  \n",
      " 3   EDUCATION                   30000 non-null  int64  \n",
      " 4   MARRIAGE                    30000 non-null  int64  \n",
      " 5   AGE                         30000 non-null  int64  \n",
      " 6   PAY_0                       30000 non-null  int64  \n",
      " 7   PAY_2                       30000 non-null  int64  \n",
      " 8   PAY_3                       30000 non-null  int64  \n",
      " 9   PAY_4                       30000 non-null  int64  \n",
      " 10  PAY_5                       30000 non-null  int64  \n",
      " 11  PAY_6                       30000 non-null  int64  \n",
      " 12  BILL_AMT1                   30000 non-null  float64\n",
      " 13  BILL_AMT2                   30000 non-null  float64\n",
      " 14  BILL_AMT3                   30000 non-null  float64\n",
      " 15  BILL_AMT4                   30000 non-null  float64\n",
      " 16  BILL_AMT5                   30000 non-null  float64\n",
      " 17  BILL_AMT6                   30000 non-null  float64\n",
      " 18  PAY_AMT1                    30000 non-null  float64\n",
      " 19  PAY_AMT2                    30000 non-null  float64\n",
      " 20  PAY_AMT3                    30000 non-null  float64\n",
      " 21  PAY_AMT4                    30000 non-null  float64\n",
      " 22  PAY_AMT5                    30000 non-null  float64\n",
      " 23  PAY_AMT6                    30000 non-null  float64\n",
      " 24  default.payment.next.month  30000 non-null  int64  \n",
      "dtypes: float64(13), int64(12)\n",
      "memory usage: 5.7 MB\n"
     ]
    }
   ],
   "source": [
    "df1.info()"
   ]
  },
  {
   "cell_type": "code",
   "execution_count": 5,
   "id": "edd64cf4",
   "metadata": {
    "execution": {
     "iopub.execute_input": "2022-11-22T18:09:00.725874Z",
     "iopub.status.busy": "2022-11-22T18:09:00.724568Z",
     "iopub.status.idle": "2022-11-22T18:09:00.836360Z",
     "shell.execute_reply": "2022-11-22T18:09:00.835150Z"
    },
    "papermill": {
     "duration": 0.134652,
     "end_time": "2022-11-22T18:09:00.839113",
     "exception": false,
     "start_time": "2022-11-22T18:09:00.704461",
     "status": "completed"
    },
    "tags": []
   },
   "outputs": [
    {
     "data": {
      "text/html": [
       "<div>\n",
       "<style scoped>\n",
       "    .dataframe tbody tr th:only-of-type {\n",
       "        vertical-align: middle;\n",
       "    }\n",
       "\n",
       "    .dataframe tbody tr th {\n",
       "        vertical-align: top;\n",
       "    }\n",
       "\n",
       "    .dataframe thead th {\n",
       "        text-align: right;\n",
       "    }\n",
       "</style>\n",
       "<table border=\"1\" class=\"dataframe\">\n",
       "  <thead>\n",
       "    <tr style=\"text-align: right;\">\n",
       "      <th></th>\n",
       "      <th>ID</th>\n",
       "      <th>LIMIT_BAL</th>\n",
       "      <th>SEX</th>\n",
       "      <th>EDUCATION</th>\n",
       "      <th>MARRIAGE</th>\n",
       "      <th>AGE</th>\n",
       "      <th>PAY_0</th>\n",
       "      <th>PAY_2</th>\n",
       "      <th>PAY_3</th>\n",
       "      <th>PAY_4</th>\n",
       "      <th>...</th>\n",
       "      <th>BILL_AMT4</th>\n",
       "      <th>BILL_AMT5</th>\n",
       "      <th>BILL_AMT6</th>\n",
       "      <th>PAY_AMT1</th>\n",
       "      <th>PAY_AMT2</th>\n",
       "      <th>PAY_AMT3</th>\n",
       "      <th>PAY_AMT4</th>\n",
       "      <th>PAY_AMT5</th>\n",
       "      <th>PAY_AMT6</th>\n",
       "      <th>default.payment.next.month</th>\n",
       "    </tr>\n",
       "  </thead>\n",
       "  <tbody>\n",
       "    <tr>\n",
       "      <th>count</th>\n",
       "      <td>30000.000000</td>\n",
       "      <td>30000.000000</td>\n",
       "      <td>30000.000000</td>\n",
       "      <td>30000.000000</td>\n",
       "      <td>30000.000000</td>\n",
       "      <td>30000.000000</td>\n",
       "      <td>30000.000000</td>\n",
       "      <td>30000.000000</td>\n",
       "      <td>30000.000000</td>\n",
       "      <td>30000.000000</td>\n",
       "      <td>...</td>\n",
       "      <td>30000.000000</td>\n",
       "      <td>30000.000000</td>\n",
       "      <td>30000.000000</td>\n",
       "      <td>30000.000000</td>\n",
       "      <td>3.000000e+04</td>\n",
       "      <td>30000.00000</td>\n",
       "      <td>30000.000000</td>\n",
       "      <td>30000.000000</td>\n",
       "      <td>30000.000000</td>\n",
       "      <td>30000.000000</td>\n",
       "    </tr>\n",
       "    <tr>\n",
       "      <th>mean</th>\n",
       "      <td>15000.500000</td>\n",
       "      <td>167484.322667</td>\n",
       "      <td>1.603733</td>\n",
       "      <td>1.853133</td>\n",
       "      <td>1.551867</td>\n",
       "      <td>35.485500</td>\n",
       "      <td>-0.016700</td>\n",
       "      <td>-0.133767</td>\n",
       "      <td>-0.166200</td>\n",
       "      <td>-0.220667</td>\n",
       "      <td>...</td>\n",
       "      <td>43262.948967</td>\n",
       "      <td>40311.400967</td>\n",
       "      <td>38871.760400</td>\n",
       "      <td>5663.580500</td>\n",
       "      <td>5.921163e+03</td>\n",
       "      <td>5225.68150</td>\n",
       "      <td>4826.076867</td>\n",
       "      <td>4799.387633</td>\n",
       "      <td>5215.502567</td>\n",
       "      <td>0.221200</td>\n",
       "    </tr>\n",
       "    <tr>\n",
       "      <th>std</th>\n",
       "      <td>8660.398374</td>\n",
       "      <td>129747.661567</td>\n",
       "      <td>0.489129</td>\n",
       "      <td>0.790349</td>\n",
       "      <td>0.521970</td>\n",
       "      <td>9.217904</td>\n",
       "      <td>1.123802</td>\n",
       "      <td>1.197186</td>\n",
       "      <td>1.196868</td>\n",
       "      <td>1.169139</td>\n",
       "      <td>...</td>\n",
       "      <td>64332.856134</td>\n",
       "      <td>60797.155770</td>\n",
       "      <td>59554.107537</td>\n",
       "      <td>16563.280354</td>\n",
       "      <td>2.304087e+04</td>\n",
       "      <td>17606.96147</td>\n",
       "      <td>15666.159744</td>\n",
       "      <td>15278.305679</td>\n",
       "      <td>17777.465775</td>\n",
       "      <td>0.415062</td>\n",
       "    </tr>\n",
       "    <tr>\n",
       "      <th>min</th>\n",
       "      <td>1.000000</td>\n",
       "      <td>10000.000000</td>\n",
       "      <td>1.000000</td>\n",
       "      <td>0.000000</td>\n",
       "      <td>0.000000</td>\n",
       "      <td>21.000000</td>\n",
       "      <td>-2.000000</td>\n",
       "      <td>-2.000000</td>\n",
       "      <td>-2.000000</td>\n",
       "      <td>-2.000000</td>\n",
       "      <td>...</td>\n",
       "      <td>-170000.000000</td>\n",
       "      <td>-81334.000000</td>\n",
       "      <td>-339603.000000</td>\n",
       "      <td>0.000000</td>\n",
       "      <td>0.000000e+00</td>\n",
       "      <td>0.00000</td>\n",
       "      <td>0.000000</td>\n",
       "      <td>0.000000</td>\n",
       "      <td>0.000000</td>\n",
       "      <td>0.000000</td>\n",
       "    </tr>\n",
       "    <tr>\n",
       "      <th>25%</th>\n",
       "      <td>7500.750000</td>\n",
       "      <td>50000.000000</td>\n",
       "      <td>1.000000</td>\n",
       "      <td>1.000000</td>\n",
       "      <td>1.000000</td>\n",
       "      <td>28.000000</td>\n",
       "      <td>-1.000000</td>\n",
       "      <td>-1.000000</td>\n",
       "      <td>-1.000000</td>\n",
       "      <td>-1.000000</td>\n",
       "      <td>...</td>\n",
       "      <td>2326.750000</td>\n",
       "      <td>1763.000000</td>\n",
       "      <td>1256.000000</td>\n",
       "      <td>1000.000000</td>\n",
       "      <td>8.330000e+02</td>\n",
       "      <td>390.00000</td>\n",
       "      <td>296.000000</td>\n",
       "      <td>252.500000</td>\n",
       "      <td>117.750000</td>\n",
       "      <td>0.000000</td>\n",
       "    </tr>\n",
       "    <tr>\n",
       "      <th>50%</th>\n",
       "      <td>15000.500000</td>\n",
       "      <td>140000.000000</td>\n",
       "      <td>2.000000</td>\n",
       "      <td>2.000000</td>\n",
       "      <td>2.000000</td>\n",
       "      <td>34.000000</td>\n",
       "      <td>0.000000</td>\n",
       "      <td>0.000000</td>\n",
       "      <td>0.000000</td>\n",
       "      <td>0.000000</td>\n",
       "      <td>...</td>\n",
       "      <td>19052.000000</td>\n",
       "      <td>18104.500000</td>\n",
       "      <td>17071.000000</td>\n",
       "      <td>2100.000000</td>\n",
       "      <td>2.009000e+03</td>\n",
       "      <td>1800.00000</td>\n",
       "      <td>1500.000000</td>\n",
       "      <td>1500.000000</td>\n",
       "      <td>1500.000000</td>\n",
       "      <td>0.000000</td>\n",
       "    </tr>\n",
       "    <tr>\n",
       "      <th>75%</th>\n",
       "      <td>22500.250000</td>\n",
       "      <td>240000.000000</td>\n",
       "      <td>2.000000</td>\n",
       "      <td>2.000000</td>\n",
       "      <td>2.000000</td>\n",
       "      <td>41.000000</td>\n",
       "      <td>0.000000</td>\n",
       "      <td>0.000000</td>\n",
       "      <td>0.000000</td>\n",
       "      <td>0.000000</td>\n",
       "      <td>...</td>\n",
       "      <td>54506.000000</td>\n",
       "      <td>50190.500000</td>\n",
       "      <td>49198.250000</td>\n",
       "      <td>5006.000000</td>\n",
       "      <td>5.000000e+03</td>\n",
       "      <td>4505.00000</td>\n",
       "      <td>4013.250000</td>\n",
       "      <td>4031.500000</td>\n",
       "      <td>4000.000000</td>\n",
       "      <td>0.000000</td>\n",
       "    </tr>\n",
       "    <tr>\n",
       "      <th>max</th>\n",
       "      <td>30000.000000</td>\n",
       "      <td>1000000.000000</td>\n",
       "      <td>2.000000</td>\n",
       "      <td>6.000000</td>\n",
       "      <td>3.000000</td>\n",
       "      <td>79.000000</td>\n",
       "      <td>8.000000</td>\n",
       "      <td>8.000000</td>\n",
       "      <td>8.000000</td>\n",
       "      <td>8.000000</td>\n",
       "      <td>...</td>\n",
       "      <td>891586.000000</td>\n",
       "      <td>927171.000000</td>\n",
       "      <td>961664.000000</td>\n",
       "      <td>873552.000000</td>\n",
       "      <td>1.684259e+06</td>\n",
       "      <td>896040.00000</td>\n",
       "      <td>621000.000000</td>\n",
       "      <td>426529.000000</td>\n",
       "      <td>528666.000000</td>\n",
       "      <td>1.000000</td>\n",
       "    </tr>\n",
       "  </tbody>\n",
       "</table>\n",
       "<p>8 rows × 25 columns</p>\n",
       "</div>"
      ],
      "text/plain": [
       "                 ID       LIMIT_BAL           SEX     EDUCATION      MARRIAGE  \\\n",
       "count  30000.000000    30000.000000  30000.000000  30000.000000  30000.000000   \n",
       "mean   15000.500000   167484.322667      1.603733      1.853133      1.551867   \n",
       "std     8660.398374   129747.661567      0.489129      0.790349      0.521970   \n",
       "min        1.000000    10000.000000      1.000000      0.000000      0.000000   \n",
       "25%     7500.750000    50000.000000      1.000000      1.000000      1.000000   \n",
       "50%    15000.500000   140000.000000      2.000000      2.000000      2.000000   \n",
       "75%    22500.250000   240000.000000      2.000000      2.000000      2.000000   \n",
       "max    30000.000000  1000000.000000      2.000000      6.000000      3.000000   \n",
       "\n",
       "                AGE         PAY_0         PAY_2         PAY_3         PAY_4  \\\n",
       "count  30000.000000  30000.000000  30000.000000  30000.000000  30000.000000   \n",
       "mean      35.485500     -0.016700     -0.133767     -0.166200     -0.220667   \n",
       "std        9.217904      1.123802      1.197186      1.196868      1.169139   \n",
       "min       21.000000     -2.000000     -2.000000     -2.000000     -2.000000   \n",
       "25%       28.000000     -1.000000     -1.000000     -1.000000     -1.000000   \n",
       "50%       34.000000      0.000000      0.000000      0.000000      0.000000   \n",
       "75%       41.000000      0.000000      0.000000      0.000000      0.000000   \n",
       "max       79.000000      8.000000      8.000000      8.000000      8.000000   \n",
       "\n",
       "       ...      BILL_AMT4      BILL_AMT5      BILL_AMT6       PAY_AMT1  \\\n",
       "count  ...   30000.000000   30000.000000   30000.000000   30000.000000   \n",
       "mean   ...   43262.948967   40311.400967   38871.760400    5663.580500   \n",
       "std    ...   64332.856134   60797.155770   59554.107537   16563.280354   \n",
       "min    ... -170000.000000  -81334.000000 -339603.000000       0.000000   \n",
       "25%    ...    2326.750000    1763.000000    1256.000000    1000.000000   \n",
       "50%    ...   19052.000000   18104.500000   17071.000000    2100.000000   \n",
       "75%    ...   54506.000000   50190.500000   49198.250000    5006.000000   \n",
       "max    ...  891586.000000  927171.000000  961664.000000  873552.000000   \n",
       "\n",
       "           PAY_AMT2      PAY_AMT3       PAY_AMT4       PAY_AMT5  \\\n",
       "count  3.000000e+04   30000.00000   30000.000000   30000.000000   \n",
       "mean   5.921163e+03    5225.68150    4826.076867    4799.387633   \n",
       "std    2.304087e+04   17606.96147   15666.159744   15278.305679   \n",
       "min    0.000000e+00       0.00000       0.000000       0.000000   \n",
       "25%    8.330000e+02     390.00000     296.000000     252.500000   \n",
       "50%    2.009000e+03    1800.00000    1500.000000    1500.000000   \n",
       "75%    5.000000e+03    4505.00000    4013.250000    4031.500000   \n",
       "max    1.684259e+06  896040.00000  621000.000000  426529.000000   \n",
       "\n",
       "            PAY_AMT6  default.payment.next.month  \n",
       "count   30000.000000                30000.000000  \n",
       "mean     5215.502567                    0.221200  \n",
       "std     17777.465775                    0.415062  \n",
       "min         0.000000                    0.000000  \n",
       "25%       117.750000                    0.000000  \n",
       "50%      1500.000000                    0.000000  \n",
       "75%      4000.000000                    0.000000  \n",
       "max    528666.000000                    1.000000  \n",
       "\n",
       "[8 rows x 25 columns]"
      ]
     },
     "execution_count": 5,
     "metadata": {},
     "output_type": "execute_result"
    }
   ],
   "source": [
    "df1.describe()"
   ]
  },
  {
   "cell_type": "code",
   "execution_count": 6,
   "id": "6c9a1ed3",
   "metadata": {
    "execution": {
     "iopub.execute_input": "2022-11-22T18:09:00.878189Z",
     "iopub.status.busy": "2022-11-22T18:09:00.877351Z",
     "iopub.status.idle": "2022-11-22T18:09:00.889190Z",
     "shell.execute_reply": "2022-11-22T18:09:00.887940Z"
    },
    "papermill": {
     "duration": 0.034275,
     "end_time": "2022-11-22T18:09:00.891888",
     "exception": false,
     "start_time": "2022-11-22T18:09:00.857613",
     "status": "completed"
    },
    "tags": []
   },
   "outputs": [
    {
     "data": {
      "text/plain": [
       "ID                            0\n",
       "LIMIT_BAL                     0\n",
       "SEX                           0\n",
       "EDUCATION                     0\n",
       "MARRIAGE                      0\n",
       "AGE                           0\n",
       "PAY_0                         0\n",
       "PAY_2                         0\n",
       "PAY_3                         0\n",
       "PAY_4                         0\n",
       "PAY_5                         0\n",
       "PAY_6                         0\n",
       "BILL_AMT1                     0\n",
       "BILL_AMT2                     0\n",
       "BILL_AMT3                     0\n",
       "BILL_AMT4                     0\n",
       "BILL_AMT5                     0\n",
       "BILL_AMT6                     0\n",
       "PAY_AMT1                      0\n",
       "PAY_AMT2                      0\n",
       "PAY_AMT3                      0\n",
       "PAY_AMT4                      0\n",
       "PAY_AMT5                      0\n",
       "PAY_AMT6                      0\n",
       "default.payment.next.month    0\n",
       "dtype: int64"
      ]
     },
     "execution_count": 6,
     "metadata": {},
     "output_type": "execute_result"
    }
   ],
   "source": [
    "df1.isnull().sum()"
   ]
  },
  {
   "cell_type": "code",
   "execution_count": 7,
   "id": "60385b2c",
   "metadata": {
    "execution": {
     "iopub.execute_input": "2022-11-22T18:09:00.930796Z",
     "iopub.status.busy": "2022-11-22T18:09:00.930355Z",
     "iopub.status.idle": "2022-11-22T18:09:00.972925Z",
     "shell.execute_reply": "2022-11-22T18:09:00.970933Z"
    },
    "papermill": {
     "duration": 0.065474,
     "end_time": "2022-11-22T18:09:00.975843",
     "exception": false,
     "start_time": "2022-11-22T18:09:00.910369",
     "status": "completed"
    },
    "tags": []
   },
   "outputs": [
    {
     "data": {
      "text/plain": [
       "False"
      ]
     },
     "execution_count": 7,
     "metadata": {},
     "output_type": "execute_result"
    }
   ],
   "source": [
    "df1.duplicated().any()"
   ]
  },
  {
   "cell_type": "code",
   "execution_count": 8,
   "id": "fda535f4",
   "metadata": {
    "execution": {
     "iopub.execute_input": "2022-11-22T18:09:01.014634Z",
     "iopub.status.busy": "2022-11-22T18:09:01.014245Z",
     "iopub.status.idle": "2022-11-22T18:09:01.022096Z",
     "shell.execute_reply": "2022-11-22T18:09:01.021029Z"
    },
    "papermill": {
     "duration": 0.030262,
     "end_time": "2022-11-22T18:09:01.024878",
     "exception": false,
     "start_time": "2022-11-22T18:09:00.994616",
     "status": "completed"
    },
    "tags": []
   },
   "outputs": [
    {
     "data": {
      "text/plain": [
       "Index(['ID', 'LIMIT_BAL', 'SEX', 'EDUCATION', 'MARRIAGE', 'AGE', 'PAY_0',\n",
       "       'PAY_2', 'PAY_3', 'PAY_4', 'PAY_5', 'PAY_6', 'BILL_AMT1', 'BILL_AMT2',\n",
       "       'BILL_AMT3', 'BILL_AMT4', 'BILL_AMT5', 'BILL_AMT6', 'PAY_AMT1',\n",
       "       'PAY_AMT2', 'PAY_AMT3', 'PAY_AMT4', 'PAY_AMT5', 'PAY_AMT6',\n",
       "       'default.payment.next.month'],\n",
       "      dtype='object')"
      ]
     },
     "execution_count": 8,
     "metadata": {},
     "output_type": "execute_result"
    }
   ],
   "source": [
    "df1.columns"
   ]
  },
  {
   "cell_type": "code",
   "execution_count": 9,
   "id": "07c88352",
   "metadata": {
    "execution": {
     "iopub.execute_input": "2022-11-22T18:09:01.064624Z",
     "iopub.status.busy": "2022-11-22T18:09:01.064235Z",
     "iopub.status.idle": "2022-11-22T18:09:01.073101Z",
     "shell.execute_reply": "2022-11-22T18:09:01.072187Z"
    },
    "papermill": {
     "duration": 0.031869,
     "end_time": "2022-11-22T18:09:01.075403",
     "exception": false,
     "start_time": "2022-11-22T18:09:01.043534",
     "status": "completed"
    },
    "tags": []
   },
   "outputs": [
    {
     "data": {
      "text/plain": [
       "Index(['ID', 'LIMIT_BAL', 'SEX', 'EDUCATION', 'MARRIAGE', 'AGE', 'PAY_1',\n",
       "       'PAY_2', 'PAY_3', 'PAY_4', 'PAY_5', 'PAY_6', 'BILL_AMT1', 'BILL_AMT2',\n",
       "       'BILL_AMT3', 'BILL_AMT4', 'BILL_AMT5', 'BILL_AMT6', 'PAY_AMT1',\n",
       "       'PAY_AMT2', 'PAY_AMT3', 'PAY_AMT4', 'PAY_AMT5', 'PAY_AMT6', 'default'],\n",
       "      dtype='object')"
      ]
     },
     "execution_count": 9,
     "metadata": {},
     "output_type": "execute_result"
    }
   ],
   "source": [
    "# Renaming the target column for better reference. and changing PAY_0 to PAY_1.\n",
    "df1.rename(columns={\"default.payment.next.month\" : \"default\", \"PAY_0\":\"PAY_1\"}, inplace=True)\n",
    "df1.columns"
   ]
  },
  {
   "cell_type": "code",
   "execution_count": 10,
   "id": "797fd602",
   "metadata": {
    "execution": {
     "iopub.execute_input": "2022-11-22T18:09:01.115832Z",
     "iopub.status.busy": "2022-11-22T18:09:01.115393Z",
     "iopub.status.idle": "2022-11-22T18:09:01.126250Z",
     "shell.execute_reply": "2022-11-22T18:09:01.124349Z"
    },
    "papermill": {
     "duration": 0.033836,
     "end_time": "2022-11-22T18:09:01.129039",
     "exception": false,
     "start_time": "2022-11-22T18:09:01.095203",
     "status": "completed"
    },
    "tags": []
   },
   "outputs": [
    {
     "name": "stdout",
     "output_type": "stream",
     "text": [
      "2    18112\n",
      "1    11888\n",
      "Name: SEX, dtype: int64\n",
      "\n",
      "2    14030\n",
      "1    10585\n",
      "3     4917\n",
      "5      280\n",
      "4      123\n",
      "6       51\n",
      "0       14\n",
      "Name: EDUCATION, dtype: int64\n",
      "\n",
      "2    15964\n",
      "1    13659\n",
      "3      323\n",
      "0       54\n",
      "Name: MARRIAGE, dtype: int64\n",
      "\n"
     ]
    }
   ],
   "source": [
    "# Count in diff categorical columns\n",
    "for columns in [\"SEX\",\"EDUCATION\",\"MARRIAGE\"]:\n",
    "    print(df1[columns].value_counts())\n",
    "    print(\"\", end=\"\\n\")\n",
    "    "
   ]
  },
  {
   "cell_type": "code",
   "execution_count": 11,
   "id": "51f56ebd",
   "metadata": {
    "execution": {
     "iopub.execute_input": "2022-11-22T18:09:01.168174Z",
     "iopub.status.busy": "2022-11-22T18:09:01.167736Z",
     "iopub.status.idle": "2022-11-22T18:09:01.178106Z",
     "shell.execute_reply": "2022-11-22T18:09:01.176421Z"
    },
    "papermill": {
     "duration": 0.033419,
     "end_time": "2022-11-22T18:09:01.181098",
     "exception": false,
     "start_time": "2022-11-22T18:09:01.147679",
     "status": "completed"
    },
    "tags": []
   },
   "outputs": [
    {
     "data": {
      "text/plain": [
       "0    23364\n",
       "1     6636\n",
       "Name: default, dtype: int64"
      ]
     },
     "execution_count": 11,
     "metadata": {},
     "output_type": "execute_result"
    }
   ],
   "source": [
    "df1.default.value_counts()"
   ]
  },
  {
   "cell_type": "markdown",
   "id": "f2ff161d",
   "metadata": {
    "papermill": {
     "duration": 0.018721,
     "end_time": "2022-11-22T18:09:01.218903",
     "exception": false,
     "start_time": "2022-11-22T18:09:01.200182",
     "status": "completed"
    },
    "tags": []
   },
   "source": [
    "#### Default : 1 - Yes, 0 - No"
   ]
  },
  {
   "cell_type": "code",
   "execution_count": 12,
   "id": "2ac7862b",
   "metadata": {
    "execution": {
     "iopub.execute_input": "2022-11-22T18:09:01.258864Z",
     "iopub.status.busy": "2022-11-22T18:09:01.258408Z",
     "iopub.status.idle": "2022-11-22T18:09:01.267752Z",
     "shell.execute_reply": "2022-11-22T18:09:01.266421Z"
    },
    "papermill": {
     "duration": 0.031733,
     "end_time": "2022-11-22T18:09:01.270093",
     "exception": false,
     "start_time": "2022-11-22T18:09:01.238360",
     "status": "completed"
    },
    "tags": []
   },
   "outputs": [
    {
     "data": {
      "text/plain": [
       "2    18112\n",
       "1    11888\n",
       "Name: SEX, dtype: int64"
      ]
     },
     "execution_count": 12,
     "metadata": {},
     "output_type": "execute_result"
    }
   ],
   "source": [
    "df1[\"SEX\"].value_counts()"
   ]
  },
  {
   "cell_type": "markdown",
   "id": "3ba65b96",
   "metadata": {
    "papermill": {
     "duration": 0.018939,
     "end_time": "2022-11-22T18:09:01.308519",
     "exception": false,
     "start_time": "2022-11-22T18:09:01.289580",
     "status": "completed"
    },
    "tags": []
   },
   "source": [
    "#### Gender : 1 - Male , 2 - Female"
   ]
  },
  {
   "cell_type": "code",
   "execution_count": 13,
   "id": "99979c0d",
   "metadata": {
    "execution": {
     "iopub.execute_input": "2022-11-22T18:09:01.348419Z",
     "iopub.status.busy": "2022-11-22T18:09:01.347978Z",
     "iopub.status.idle": "2022-11-22T18:09:01.363878Z",
     "shell.execute_reply": "2022-11-22T18:09:01.362621Z"
    },
    "papermill": {
     "duration": 0.03873,
     "end_time": "2022-11-22T18:09:01.366529",
     "exception": false,
     "start_time": "2022-11-22T18:09:01.327799",
     "status": "completed"
    },
    "tags": []
   },
   "outputs": [
    {
     "data": {
      "text/plain": [
       "default  SEX\n",
       "0        1       9015\n",
       "         2      14349\n",
       "1        1       2873\n",
       "         2       3763\n",
       "Name: SEX, dtype: int64"
      ]
     },
     "execution_count": 13,
     "metadata": {},
     "output_type": "execute_result"
    }
   ],
   "source": [
    "df1.groupby(\"default\")[\"SEX\"].value_counts(ascending=True)"
   ]
  },
  {
   "cell_type": "markdown",
   "id": "8baf9d55",
   "metadata": {
    "papermill": {
     "duration": 0.018958,
     "end_time": "2022-11-22T18:09:01.404224",
     "exception": false,
     "start_time": "2022-11-22T18:09:01.385266",
     "status": "completed"
    },
    "tags": []
   },
   "source": [
    "<h3 style=\"color:orange\" align=\"center\"> Females are defaulting more than the Males"
   ]
  },
  {
   "cell_type": "code",
   "execution_count": 14,
   "id": "263b8879",
   "metadata": {
    "execution": {
     "iopub.execute_input": "2022-11-22T18:09:01.443510Z",
     "iopub.status.busy": "2022-11-22T18:09:01.443087Z",
     "iopub.status.idle": "2022-11-22T18:09:01.448000Z",
     "shell.execute_reply": "2022-11-22T18:09:01.447080Z"
    },
    "papermill": {
     "duration": 0.027117,
     "end_time": "2022-11-22T18:09:01.450022",
     "exception": false,
     "start_time": "2022-11-22T18:09:01.422905",
     "status": "completed"
    },
    "tags": []
   },
   "outputs": [],
   "source": [
    "plt.rcParams[\"figure.figsize\"]=(10,6)"
   ]
  },
  {
   "cell_type": "code",
   "execution_count": 15,
   "id": "bf5ec0cb",
   "metadata": {
    "execution": {
     "iopub.execute_input": "2022-11-22T18:09:01.489405Z",
     "iopub.status.busy": "2022-11-22T18:09:01.489000Z",
     "iopub.status.idle": "2022-11-22T18:09:01.493884Z",
     "shell.execute_reply": "2022-11-22T18:09:01.492819Z"
    },
    "papermill": {
     "duration": 0.027369,
     "end_time": "2022-11-22T18:09:01.496082",
     "exception": false,
     "start_time": "2022-11-22T18:09:01.468713",
     "status": "completed"
    },
    "tags": []
   },
   "outputs": [],
   "source": [
    "def plot_vis(col):\n",
    "    sns.countplot(x = col, hue=df1.default)"
   ]
  },
  {
   "cell_type": "code",
   "execution_count": 16,
   "id": "8a6ce5df",
   "metadata": {
    "execution": {
     "iopub.execute_input": "2022-11-22T18:09:01.535789Z",
     "iopub.status.busy": "2022-11-22T18:09:01.534974Z",
     "iopub.status.idle": "2022-11-22T18:09:01.827685Z",
     "shell.execute_reply": "2022-11-22T18:09:01.826815Z"
    },
    "papermill": {
     "duration": 0.315041,
     "end_time": "2022-11-22T18:09:01.829875",
     "exception": false,
     "start_time": "2022-11-22T18:09:01.514834",
     "status": "completed"
    },
    "tags": []
   },
   "outputs": [
    {
     "data": {
      "image/png": "[encoded data removed]",
      "text/plain": [
       "<Figure size 720x432 with 1 Axes>"
      ]
     },
     "metadata": {
      "needs_background": "light"
     },
     "output_type": "display_data"
    }
   ],
   "source": [
    "plot_vis(df1.SEX)"
   ]
  },
  {
   "cell_type": "code",
   "execution_count": 17,
   "id": "b323d4d0",
   "metadata": {
    "execution": {
     "iopub.execute_input": "2022-11-22T18:09:01.871895Z",
     "iopub.status.busy": "2022-11-22T18:09:01.871449Z",
     "iopub.status.idle": "2022-11-22T18:09:01.880544Z",
     "shell.execute_reply": "2022-11-22T18:09:01.879413Z"
    },
    "papermill": {
     "duration": 0.032582,
     "end_time": "2022-11-22T18:09:01.883197",
     "exception": false,
     "start_time": "2022-11-22T18:09:01.850615",
     "status": "completed"
    },
    "tags": []
   },
   "outputs": [
    {
     "data": {
      "text/plain": [
       "2    14030\n",
       "1    10585\n",
       "3     4917\n",
       "5      280\n",
       "4      123\n",
       "6       51\n",
       "0       14\n",
       "Name: EDUCATION, dtype: int64"
      ]
     },
     "execution_count": 17,
     "metadata": {},
     "output_type": "execute_result"
    }
   ],
   "source": [
    "df1.EDUCATION.value_counts()"
   ]
  },
  {
   "cell_type": "markdown",
   "id": "a58d1fc4",
   "metadata": {
    "papermill": {
     "duration": 0.019132,
     "end_time": "2022-11-22T18:09:01.921843",
     "exception": false,
     "start_time": "2022-11-22T18:09:01.902711",
     "status": "completed"
    },
    "tags": []
   },
   "source": [
    "#### Education has 7 categories where 1,2,3 are having most of the data points and remaining 0,5,6 can be merged into value 4."
   ]
  },
  {
   "cell_type": "code",
   "execution_count": 18,
   "id": "c83d5e48",
   "metadata": {
    "execution": {
     "iopub.execute_input": "2022-11-22T18:09:01.964677Z",
     "iopub.status.busy": "2022-11-22T18:09:01.964231Z",
     "iopub.status.idle": "2022-11-22T18:09:01.977536Z",
     "shell.execute_reply": "2022-11-22T18:09:01.976129Z"
    },
    "papermill": {
     "duration": 0.036987,
     "end_time": "2022-11-22T18:09:01.979934",
     "exception": false,
     "start_time": "2022-11-22T18:09:01.942947",
     "status": "completed"
    },
    "tags": []
   },
   "outputs": [
    {
     "data": {
      "text/plain": [
       "2    14030\n",
       "1    10585\n",
       "3     4917\n",
       "4      468\n",
       "Name: EDUCATION, dtype: int64"
      ]
     },
     "execution_count": 18,
     "metadata": {},
     "output_type": "execute_result"
    }
   ],
   "source": [
    "df1.loc[(df1[\"EDUCATION\"]==5)| (df1[\"EDUCATION\"]==6) |(df1[\"EDUCATION\"]==0),\"EDUCATION\"] = 4\n",
    "df1.EDUCATION.value_counts()"
   ]
  },
  {
   "cell_type": "code",
   "execution_count": 19,
   "id": "67ed7809",
   "metadata": {
    "execution": {
     "iopub.execute_input": "2022-11-22T18:09:02.022747Z",
     "iopub.status.busy": "2022-11-22T18:09:02.022261Z",
     "iopub.status.idle": "2022-11-22T18:09:02.279753Z",
     "shell.execute_reply": "2022-11-22T18:09:02.278769Z"
    },
    "papermill": {
     "duration": 0.281763,
     "end_time": "2022-11-22T18:09:02.282205",
     "exception": false,
     "start_time": "2022-11-22T18:09:02.000442",
     "status": "completed"
    },
    "tags": []
   },
   "outputs": [
    {
     "data": {
      "image/png": "[encoded data removed]",
      "text/plain": [
       "<Figure size 720x432 with 1 Axes>"
      ]
     },
     "metadata": {
      "needs_background": "light"
     },
     "output_type": "display_data"
    }
   ],
   "source": [
    "plot_vis(df1.EDUCATION)"
   ]
  },
  {
   "cell_type": "markdown",
   "id": "f72bcea9",
   "metadata": {
    "papermill": {
     "duration": 0.019562,
     "end_time": "2022-11-22T18:09:02.321568",
     "exception": false,
     "start_time": "2022-11-22T18:09:02.302006",
     "status": "completed"
    },
    "tags": []
   },
   "source": [
    "#### 1 = Graduate School, 2 = University, 3 = High School, 4 = Others\n",
    "\n",
    "#### People having university level education are defaulting more than others. But peope with High School level education have higher ratio of default against availment. "
   ]
  },
  {
   "cell_type": "code",
   "execution_count": 20,
   "id": "74e70279",
   "metadata": {
    "execution": {
     "iopub.execute_input": "2022-11-22T18:09:02.363543Z",
     "iopub.status.busy": "2022-11-22T18:09:02.362387Z",
     "iopub.status.idle": "2022-11-22T18:09:02.371445Z",
     "shell.execute_reply": "2022-11-22T18:09:02.370271Z"
    },
    "papermill": {
     "duration": 0.032525,
     "end_time": "2022-11-22T18:09:02.373724",
     "exception": false,
     "start_time": "2022-11-22T18:09:02.341199",
     "status": "completed"
    },
    "tags": []
   },
   "outputs": [
    {
     "data": {
      "text/plain": [
       "2    15964\n",
       "1    13659\n",
       "3      323\n",
       "0       54\n",
       "Name: MARRIAGE, dtype: int64"
      ]
     },
     "execution_count": 20,
     "metadata": {},
     "output_type": "execute_result"
    }
   ],
   "source": [
    "df1.MARRIAGE.value_counts()"
   ]
  },
  {
   "cell_type": "code",
   "execution_count": 21,
   "id": "b6aa922d",
   "metadata": {
    "execution": {
     "iopub.execute_input": "2022-11-22T18:09:02.415321Z",
     "iopub.status.busy": "2022-11-22T18:09:02.414616Z",
     "iopub.status.idle": "2022-11-22T18:09:02.424371Z",
     "shell.execute_reply": "2022-11-22T18:09:02.423354Z"
    },
    "papermill": {
     "duration": 0.033264,
     "end_time": "2022-11-22T18:09:02.426782",
     "exception": false,
     "start_time": "2022-11-22T18:09:02.393518",
     "status": "completed"
    },
    "tags": []
   },
   "outputs": [
    {
     "data": {
      "text/plain": [
       "2    15964\n",
       "1    13659\n",
       "3      377\n",
       "Name: MARRIAGE, dtype: int64"
      ]
     },
     "execution_count": 21,
     "metadata": {},
     "output_type": "execute_result"
    }
   ],
   "source": [
    "df1.loc[df1.MARRIAGE==0, \"MARRIAGE\"] = 3\n",
    "df1.MARRIAGE.value_counts()"
   ]
  },
  {
   "cell_type": "code",
   "execution_count": 22,
   "id": "af3705e3",
   "metadata": {
    "execution": {
     "iopub.execute_input": "2022-11-22T18:09:02.468765Z",
     "iopub.status.busy": "2022-11-22T18:09:02.468043Z",
     "iopub.status.idle": "2022-11-22T18:09:02.714997Z",
     "shell.execute_reply": "2022-11-22T18:09:02.713676Z"
    },
    "papermill": {
     "duration": 0.27088,
     "end_time": "2022-11-22T18:09:02.717736",
     "exception": false,
     "start_time": "2022-11-22T18:09:02.446856",
     "status": "completed"
    },
    "tags": []
   },
   "outputs": [
    {
     "data": {
      "image/png": "[encoded data removed]",
      "text/plain": [
       "<Figure size 720x432 with 1 Axes>"
      ]
     },
     "metadata": {
      "needs_background": "light"
     },
     "output_type": "display_data"
    }
   ],
   "source": [
    "plot_vis(df1.MARRIAGE)"
   ]
  },
  {
   "cell_type": "markdown",
   "id": "d82f7c30",
   "metadata": {
    "papermill": {
     "duration": 0.020519,
     "end_time": "2022-11-22T18:09:02.759305",
     "exception": false,
     "start_time": "2022-11-22T18:09:02.738786",
     "status": "completed"
    },
    "tags": []
   },
   "source": [
    "#### 1 = Married, 2 = Single, 3 = Others"
   ]
  },
  {
   "cell_type": "code",
   "execution_count": 23,
   "id": "ce2b31a7",
   "metadata": {
    "execution": {
     "iopub.execute_input": "2022-11-22T18:09:02.802090Z",
     "iopub.status.busy": "2022-11-22T18:09:02.801667Z",
     "iopub.status.idle": "2022-11-22T18:09:02.827546Z",
     "shell.execute_reply": "2022-11-22T18:09:02.826081Z"
    },
    "papermill": {
     "duration": 0.050722,
     "end_time": "2022-11-22T18:09:02.830574",
     "exception": false,
     "start_time": "2022-11-22T18:09:02.779852",
     "status": "completed"
    },
    "tags": []
   },
   "outputs": [
    {
     "name": "stdout",
     "output_type": "stream",
     "text": [
      "ID  :  30000\n",
      "LIMIT_BAL  :  81\n",
      "SEX  :  2\n",
      "EDUCATION  :  4\n",
      "MARRIAGE  :  3\n",
      "AGE  :  56\n",
      "PAY_1  :  11\n",
      "PAY_2  :  11\n",
      "PAY_3  :  11\n",
      "PAY_4  :  11\n",
      "PAY_5  :  10\n",
      "PAY_6  :  10\n",
      "BILL_AMT1  :  22723\n",
      "BILL_AMT2  :  22346\n",
      "BILL_AMT3  :  22026\n",
      "BILL_AMT4  :  21548\n",
      "BILL_AMT5  :  21010\n",
      "BILL_AMT6  :  20604\n",
      "PAY_AMT1  :  7943\n",
      "PAY_AMT2  :  7899\n",
      "PAY_AMT3  :  7518\n",
      "PAY_AMT4  :  6937\n",
      "PAY_AMT5  :  6897\n",
      "PAY_AMT6  :  6939\n",
      "default  :  2\n"
     ]
    }
   ],
   "source": [
    "for columns in df1.columns:\n",
    "    print(columns,\" : \", df1[columns].nunique())"
   ]
  },
  {
   "cell_type": "markdown",
   "id": "9673ea40",
   "metadata": {
    "papermill": {
     "duration": 0.019726,
     "end_time": "2022-11-22T18:09:02.870996",
     "exception": false,
     "start_time": "2022-11-22T18:09:02.851270",
     "status": "completed"
    },
    "tags": []
   },
   "source": [
    "#### Here \"SEX\", \"EDUCATION\", \"MARRIAGE\",\"PAY_1 TO PAY_6\" are Categorical Columns and rest are Numerical columns."
   ]
  },
  {
   "cell_type": "code",
   "execution_count": 24,
   "id": "f7f89e67",
   "metadata": {
    "execution": {
     "iopub.execute_input": "2022-11-22T18:09:02.912951Z",
     "iopub.status.busy": "2022-11-22T18:09:02.912532Z",
     "iopub.status.idle": "2022-11-22T18:09:02.939299Z",
     "shell.execute_reply": "2022-11-22T18:09:02.937616Z"
    },
    "papermill": {
     "duration": 0.051185,
     "end_time": "2022-11-22T18:09:02.942086",
     "exception": false,
     "start_time": "2022-11-22T18:09:02.890901",
     "status": "completed"
    },
    "tags": []
   },
   "outputs": [
    {
     "name": "stdout",
     "output_type": "stream",
     "text": [
      "Categorical Columns Are :  ['SEX', 'EDUCATION', 'MARRIAGE', 'PAY_1', 'PAY_2', 'PAY_3', 'PAY_4', 'PAY_5', 'PAY_6', 'default']\n",
      "Numerical Columns Are :  ['ID', 'LIMIT_BAL', 'AGE', 'BILL_AMT1', 'BILL_AMT2', 'BILL_AMT3', 'BILL_AMT4', 'BILL_AMT5', 'BILL_AMT6', 'PAY_AMT1', 'PAY_AMT2', 'PAY_AMT3', 'PAY_AMT4', 'PAY_AMT5', 'PAY_AMT6']\n"
     ]
    }
   ],
   "source": [
    "cat_columns = []\n",
    "num_columns = []\n",
    "\n",
    "for columns in df1.columns:\n",
    "    if df1[columns].nunique()<12:\n",
    "        cat_columns.append(columns)\n",
    "    else:\n",
    "        num_columns.append(columns)\n",
    "    \n",
    "print(\"Categorical Columns Are : \", cat_columns)\n",
    "print(\"Numerical Columns Are : \", num_columns)\n",
    "        "
   ]
  },
  {
   "cell_type": "code",
   "execution_count": 25,
   "id": "43c7ca44",
   "metadata": {
    "execution": {
     "iopub.execute_input": "2022-11-22T18:09:02.986008Z",
     "iopub.status.busy": "2022-11-22T18:09:02.985545Z",
     "iopub.status.idle": "2022-11-22T18:09:02.991806Z",
     "shell.execute_reply": "2022-11-22T18:09:02.990468Z"
    },
    "papermill": {
     "duration": 0.032016,
     "end_time": "2022-11-22T18:09:02.994703",
     "exception": false,
     "start_time": "2022-11-22T18:09:02.962687",
     "status": "completed"
    },
    "tags": []
   },
   "outputs": [
    {
     "name": "stdout",
     "output_type": "stream",
     "text": [
      "Categorical Columns Are :  ['SEX', 'EDUCATION', 'MARRIAGE', 'PAY_1', 'PAY_2', 'PAY_3', 'PAY_4', 'PAY_5', 'PAY_6']\n",
      "Numerical Columns Are :  ['LIMIT_BAL', 'AGE', 'BILL_AMT1', 'BILL_AMT2', 'BILL_AMT3', 'BILL_AMT4', 'BILL_AMT5', 'BILL_AMT6', 'PAY_AMT1', 'PAY_AMT2', 'PAY_AMT3', 'PAY_AMT4', 'PAY_AMT5', 'PAY_AMT6']\n"
     ]
    }
   ],
   "source": [
    "num_columns.remove(\"ID\")\n",
    "cat_columns.remove(\"default\")\n",
    "\n",
    "print(\"Categorical Columns Are : \", cat_columns)\n",
    "print(\"Numerical Columns Are : \", num_columns)"
   ]
  },
  {
   "cell_type": "markdown",
   "id": "41f6c479",
   "metadata": {
    "papermill": {
     "duration": 0.021151,
     "end_time": "2022-11-22T18:09:03.036915",
     "exception": false,
     "start_time": "2022-11-22T18:09:03.015764",
     "status": "completed"
    },
    "tags": []
   },
   "source": [
    "<h3 style=\"color:orange\" align=\"center\">EDA For Numerical Columns"
   ]
  },
  {
   "cell_type": "code",
   "execution_count": 26,
   "id": "47fdba95",
   "metadata": {
    "execution": {
     "iopub.execute_input": "2022-11-22T18:09:03.081535Z",
     "iopub.status.busy": "2022-11-22T18:09:03.080889Z",
     "iopub.status.idle": "2022-11-22T18:09:04.841588Z",
     "shell.execute_reply": "2022-11-22T18:09:04.840392Z"
    },
    "papermill": {
     "duration": 1.785766,
     "end_time": "2022-11-22T18:09:04.844381",
     "exception": false,
     "start_time": "2022-11-22T18:09:03.058615",
     "status": "completed"
    },
    "tags": []
   },
   "outputs": [
    {
     "data": {
      "image/png": "[encoded data removed]",
      "text/plain": [
       "<Figure size 720x432 with 16 Axes>"
      ]
     },
     "metadata": {
      "needs_background": "light"
     },
     "output_type": "display_data"
    }
   ],
   "source": [
    "df1[num_columns].hist()\n",
    "plt.tight_layout()\n",
    "plt.show()"
   ]
  },
  {
   "cell_type": "markdown",
   "id": "196748fb",
   "metadata": {
    "papermill": {
     "duration": 0.021581,
     "end_time": "2022-11-22T18:09:04.888013",
     "exception": false,
     "start_time": "2022-11-22T18:09:04.866432",
     "status": "completed"
    },
    "tags": []
   },
   "source": [
    "#### The numerical columns need to be converted into the Gaussian Distribution."
   ]
  },
  {
   "cell_type": "code",
   "execution_count": 27,
   "id": "8e0f6c68",
   "metadata": {
    "execution": {
     "iopub.execute_input": "2022-11-22T18:09:04.932669Z",
     "iopub.status.busy": "2022-11-22T18:09:04.932138Z",
     "iopub.status.idle": "2022-11-22T18:09:04.938873Z",
     "shell.execute_reply": "2022-11-22T18:09:04.937438Z"
    },
    "papermill": {
     "duration": 0.032191,
     "end_time": "2022-11-22T18:09:04.941353",
     "exception": false,
     "start_time": "2022-11-22T18:09:04.909162",
     "status": "completed"
    },
    "tags": []
   },
   "outputs": [],
   "source": [
    "def sub_plots_num(col):\n",
    "    plt.subplot(1,2,1)\n",
    "    sns.histplot(x=col, hue = df1[\"default\"])\n",
    "    \n",
    "    plt.subplot(1,2,2)\n",
    "    sns.boxplot(y=col, x=df1[\"default\"])"
   ]
  },
  {
   "cell_type": "code",
   "execution_count": 28,
   "id": "c0a5439c",
   "metadata": {
    "execution": {
     "iopub.execute_input": "2022-11-22T18:09:04.984892Z",
     "iopub.status.busy": "2022-11-22T18:09:04.984483Z",
     "iopub.status.idle": "2022-11-22T18:09:05.786076Z",
     "shell.execute_reply": "2022-11-22T18:09:05.784862Z"
    },
    "papermill": {
     "duration": 0.826688,
     "end_time": "2022-11-22T18:09:05.788892",
     "exception": false,
     "start_time": "2022-11-22T18:09:04.962204",
     "status": "completed"
    },
    "tags": []
   },
   "outputs": [
    {
     "data": {
      "image/png": "[encoded data removed]",
      "text/plain": [
       "<Figure size 720x432 with 2 Axes>"
      ]
     },
     "metadata": {
      "needs_background": "light"
     },
     "output_type": "display_data"
    }
   ],
   "source": [
    "sub_plots_num(df1[\"LIMIT_BAL\"])"
   ]
  },
  {
   "cell_type": "code",
   "execution_count": 29,
   "id": "9231b3c6",
   "metadata": {
    "execution": {
     "iopub.execute_input": "2022-11-22T18:09:05.833792Z",
     "iopub.status.busy": "2022-11-22T18:09:05.832702Z",
     "iopub.status.idle": "2022-11-22T18:09:06.566603Z",
     "shell.execute_reply": "2022-11-22T18:09:06.565720Z"
    },
    "papermill": {
     "duration": 0.758731,
     "end_time": "2022-11-22T18:09:06.568932",
     "exception": false,
     "start_time": "2022-11-22T18:09:05.810201",
     "status": "completed"
    },
    "tags": []
   },
   "outputs": [
    {
     "data": {
      "image/png": "[encoded data removed]",
      "text/plain": [
       "<Figure size 720x432 with 2 Axes>"
      ]
     },
     "metadata": {
      "needs_background": "light"
     },
     "output_type": "display_data"
    }
   ],
   "source": [
    "sub_plots_num(df1[\"AGE\"])"
   ]
  },
  {
   "cell_type": "code",
   "execution_count": 30,
   "id": "00955f0d",
   "metadata": {
    "execution": {
     "iopub.execute_input": "2022-11-22T18:09:06.613808Z",
     "iopub.status.busy": "2022-11-22T18:09:06.613345Z",
     "iopub.status.idle": "2022-11-22T18:09:08.510424Z",
     "shell.execute_reply": "2022-11-22T18:09:08.509047Z"
    },
    "papermill": {
     "duration": 1.92238,
     "end_time": "2022-11-22T18:09:08.512918",
     "exception": false,
     "start_time": "2022-11-22T18:09:06.590538",
     "status": "completed"
    },
    "tags": []
   },
   "outputs": [
    {
     "data": {
      "image/png": "[encoded data removed]",
      "text/plain": [
       "<Figure size 720x432 with 2 Axes>"
      ]
     },
     "metadata": {
      "needs_background": "light"
     },
     "output_type": "display_data"
    }
   ],
   "source": [
    "sub_plots_num(df1[\"BILL_AMT1\"])"
   ]
  },
  {
   "cell_type": "markdown",
   "id": "c1cdfa6a",
   "metadata": {
    "papermill": {
     "duration": 0.022634,
     "end_time": "2022-11-22T18:09:08.558555",
     "exception": false,
     "start_time": "2022-11-22T18:09:08.535921",
     "status": "completed"
    },
    "tags": []
   },
   "source": [
    "#### Bill Amount for the remaining months follow the same Pattern."
   ]
  },
  {
   "cell_type": "code",
   "execution_count": 31,
   "id": "54f8dc61",
   "metadata": {
    "execution": {
     "iopub.execute_input": "2022-11-22T18:09:08.604311Z",
     "iopub.status.busy": "2022-11-22T18:09:08.603885Z",
     "iopub.status.idle": "2022-11-22T18:09:09.663782Z",
     "shell.execute_reply": "2022-11-22T18:09:09.662841Z"
    },
    "papermill": {
     "duration": 1.085805,
     "end_time": "2022-11-22T18:09:09.666248",
     "exception": false,
     "start_time": "2022-11-22T18:09:08.580443",
     "status": "completed"
    },
    "tags": []
   },
   "outputs": [
    {
     "data": {
      "image/png": "[encoded data removed]",
      "text/plain": [
       "<Figure size 720x432 with 2 Axes>"
      ]
     },
     "metadata": {
      "needs_background": "light"
     },
     "output_type": "display_data"
    }
   ],
   "source": [
    "sub_plots_num(np.log1p(df1[\"PAY_AMT1\"]))"
   ]
  },
  {
   "cell_type": "markdown",
   "id": "d5d54c64",
   "metadata": {
    "papermill": {
     "duration": 0.021957,
     "end_time": "2022-11-22T18:09:09.710769",
     "exception": false,
     "start_time": "2022-11-22T18:09:09.688812",
     "status": "completed"
    },
    "tags": []
   },
   "source": [
    "#### Amount Pay follows similar patter like the \"PAY_AMT1\""
   ]
  },
  {
   "cell_type": "markdown",
   "id": "b13c57d7",
   "metadata": {
    "papermill": {
     "duration": 0.021586,
     "end_time": "2022-11-22T18:09:09.754390",
     "exception": false,
     "start_time": "2022-11-22T18:09:09.732804",
     "status": "completed"
    },
    "tags": []
   },
   "source": [
    "<h1 style=\"color:orange\" align=\"center\">Numerical Features are not having Gaussian Distribution. It is good to transform these into Gaussian Distribution."
   ]
  },
  {
   "cell_type": "markdown",
   "id": "4e86d04e",
   "metadata": {
    "papermill": {
     "duration": 0.022507,
     "end_time": "2022-11-22T18:09:09.800068",
     "exception": false,
     "start_time": "2022-11-22T18:09:09.777561",
     "status": "completed"
    },
    "tags": []
   },
   "source": [
    "<h3 style=\"color:orange\" align=\"center\">EDA For Categorical Columns"
   ]
  },
  {
   "cell_type": "code",
   "execution_count": 32,
   "id": "5319a439",
   "metadata": {
    "execution": {
     "iopub.execute_input": "2022-11-22T18:09:09.846883Z",
     "iopub.status.busy": "2022-11-22T18:09:09.846191Z",
     "iopub.status.idle": "2022-11-22T18:09:09.852439Z",
     "shell.execute_reply": "2022-11-22T18:09:09.851239Z"
    },
    "papermill": {
     "duration": 0.032728,
     "end_time": "2022-11-22T18:09:09.854804",
     "exception": false,
     "start_time": "2022-11-22T18:09:09.822076",
     "status": "completed"
    },
    "tags": []
   },
   "outputs": [
    {
     "data": {
      "text/plain": [
       "['SEX',\n",
       " 'EDUCATION',\n",
       " 'MARRIAGE',\n",
       " 'PAY_1',\n",
       " 'PAY_2',\n",
       " 'PAY_3',\n",
       " 'PAY_4',\n",
       " 'PAY_5',\n",
       " 'PAY_6']"
      ]
     },
     "execution_count": 32,
     "metadata": {},
     "output_type": "execute_result"
    }
   ],
   "source": [
    "cat_columns"
   ]
  },
  {
   "cell_type": "code",
   "execution_count": 33,
   "id": "e03139d7",
   "metadata": {
    "execution": {
     "iopub.execute_input": "2022-11-22T18:09:09.902326Z",
     "iopub.status.busy": "2022-11-22T18:09:09.901925Z",
     "iopub.status.idle": "2022-11-22T18:09:09.908204Z",
     "shell.execute_reply": "2022-11-22T18:09:09.907220Z"
    },
    "papermill": {
     "duration": 0.032972,
     "end_time": "2022-11-22T18:09:09.910664",
     "exception": false,
     "start_time": "2022-11-22T18:09:09.877692",
     "status": "completed"
    },
    "tags": []
   },
   "outputs": [],
   "source": [
    "def plot_cat_columns(col):\n",
    "    pie_val = df1.groupby(col)[\"default\"].mean()\n",
    "    \n",
    "    plt.subplot(1,2,1)\n",
    "    sns.countplot(x=col, data=df1)\n",
    "    \n",
    "    plt.subplot(1,2,2)\n",
    "    plt.pie(pie_val, autopct= \"%0.1f%%\", labels = pie_val.index)"
   ]
  },
  {
   "cell_type": "code",
   "execution_count": 34,
   "id": "1c40de9e",
   "metadata": {
    "execution": {
     "iopub.execute_input": "2022-11-22T18:09:09.958513Z",
     "iopub.status.busy": "2022-11-22T18:09:09.957827Z",
     "iopub.status.idle": "2022-11-22T18:09:10.237385Z",
     "shell.execute_reply": "2022-11-22T18:09:10.236120Z"
    },
    "papermill": {
     "duration": 0.306344,
     "end_time": "2022-11-22T18:09:10.240035",
     "exception": false,
     "start_time": "2022-11-22T18:09:09.933691",
     "status": "completed"
    },
    "tags": []
   },
   "outputs": [
    {
     "data": {
      "image/png": "[encoded data removed]",
      "text/plain": [
       "<Figure size 720x432 with 2 Axes>"
      ]
     },
     "metadata": {
      "needs_background": "light"
     },
     "output_type": "display_data"
    }
   ],
   "source": [
    "plot_cat_columns(\"SEX\")"
   ]
  },
  {
   "cell_type": "markdown",
   "id": "33d93957",
   "metadata": {
    "papermill": {
     "duration": 0.0222,
     "end_time": "2022-11-22T18:09:10.284795",
     "exception": false,
     "start_time": "2022-11-22T18:09:10.262595",
     "status": "completed"
    },
    "tags": []
   },
   "source": [
    "#### Female have higher chances of default than Male."
   ]
  },
  {
   "cell_type": "code",
   "execution_count": 35,
   "id": "bff3bb2c",
   "metadata": {
    "execution": {
     "iopub.execute_input": "2022-11-22T18:09:10.331661Z",
     "iopub.status.busy": "2022-11-22T18:09:10.331210Z",
     "iopub.status.idle": "2022-11-22T18:09:10.637580Z",
     "shell.execute_reply": "2022-11-22T18:09:10.636348Z"
    },
    "papermill": {
     "duration": 0.335413,
     "end_time": "2022-11-22T18:09:10.642550",
     "exception": false,
     "start_time": "2022-11-22T18:09:10.307137",
     "status": "completed"
    },
    "tags": []
   },
   "outputs": [
    {
     "data": {
      "image/png": "[encoded data removed]",
      "text/plain": [
       "<Figure size 720x432 with 2 Axes>"
      ]
     },
     "metadata": {
      "needs_background": "light"
     },
     "output_type": "display_data"
    }
   ],
   "source": [
    "plot_cat_columns(\"EDUCATION\")"
   ]
  },
  {
   "cell_type": "markdown",
   "id": "ad10e515",
   "metadata": {
    "papermill": {
     "duration": 0.029751,
     "end_time": "2022-11-22T18:09:10.703255",
     "exception": false,
     "start_time": "2022-11-22T18:09:10.673504",
     "status": "completed"
    },
    "tags": []
   },
   "source": [
    "#### Although the number of defaulters are higher in people having University level education but the people having High School education have higher chances of deafult."
   ]
  },
  {
   "cell_type": "code",
   "execution_count": 36,
   "id": "bd9477f5",
   "metadata": {
    "execution": {
     "iopub.execute_input": "2022-11-22T18:09:10.752035Z",
     "iopub.status.busy": "2022-11-22T18:09:10.750626Z",
     "iopub.status.idle": "2022-11-22T18:09:11.033179Z",
     "shell.execute_reply": "2022-11-22T18:09:11.032235Z"
    },
    "papermill": {
     "duration": 0.30916,
     "end_time": "2022-11-22T18:09:11.035525",
     "exception": false,
     "start_time": "2022-11-22T18:09:10.726365",
     "status": "completed"
    },
    "tags": []
   },
   "outputs": [
    {
     "data": {
      "image/png": "[encoded data removed]",
      "text/plain": [
       "<Figure size 720x432 with 2 Axes>"
      ]
     },
     "metadata": {
      "needs_background": "light"
     },
     "output_type": "display_data"
    }
   ],
   "source": [
    "plot_cat_columns(\"MARRIAGE\")"
   ]
  },
  {
   "cell_type": "code",
   "execution_count": 37,
   "id": "3184f054",
   "metadata": {
    "execution": {
     "iopub.execute_input": "2022-11-22T18:09:11.086176Z",
     "iopub.status.busy": "2022-11-22T18:09:11.085157Z",
     "iopub.status.idle": "2022-11-22T18:09:11.099269Z",
     "shell.execute_reply": "2022-11-22T18:09:11.098058Z"
    },
    "papermill": {
     "duration": 0.042331,
     "end_time": "2022-11-22T18:09:11.102045",
     "exception": false,
     "start_time": "2022-11-22T18:09:11.059714",
     "status": "completed"
    },
    "tags": []
   },
   "outputs": [],
   "source": [
    "for i in range(1,7):\n",
    "    col = \"PAY_\"+str(i)\n",
    "    #print(col)\n",
    "    df1.loc[(df1[col]==-2) | (df1[col] ==-1), col] =0"
   ]
  },
  {
   "cell_type": "markdown",
   "id": "a45a750f",
   "metadata": {
    "papermill": {
     "duration": 0.023156,
     "end_time": "2022-11-22T18:09:11.148572",
     "exception": false,
     "start_time": "2022-11-22T18:09:11.125416",
     "status": "completed"
    },
    "tags": []
   },
   "source": [
    "#### Single people have less chances of default than Married and others."
   ]
  },
  {
   "cell_type": "code",
   "execution_count": 38,
   "id": "8614a7df",
   "metadata": {
    "execution": {
     "iopub.execute_input": "2022-11-22T18:09:11.197817Z",
     "iopub.status.busy": "2022-11-22T18:09:11.197364Z",
     "iopub.status.idle": "2022-11-22T18:09:11.547426Z",
     "shell.execute_reply": "2022-11-22T18:09:11.546114Z"
    },
    "papermill": {
     "duration": 0.377506,
     "end_time": "2022-11-22T18:09:11.550015",
     "exception": false,
     "start_time": "2022-11-22T18:09:11.172509",
     "status": "completed"
    },
    "tags": []
   },
   "outputs": [
    {
     "data": {
      "image/png": "[encoded data removed]",
      "text/plain": [
       "<Figure size 720x432 with 2 Axes>"
      ]
     },
     "metadata": {
      "needs_background": "light"
     },
     "output_type": "display_data"
    }
   ],
   "source": [
    "plot_cat_columns(\"PAY_1\")"
   ]
  },
  {
   "cell_type": "markdown",
   "id": "9a81fa1e",
   "metadata": {
    "papermill": {
     "duration": 0.023986,
     "end_time": "2022-11-22T18:09:11.597969",
     "exception": false,
     "start_time": "2022-11-22T18:09:11.573983",
     "status": "completed"
    },
    "tags": []
   },
   "source": [
    "#### As the repayment gets delayed by 1 month, the chances of default increase."
   ]
  },
  {
   "cell_type": "markdown",
   "id": "6efbcf70",
   "metadata": {
    "papermill": {
     "duration": 0.024551,
     "end_time": "2022-11-22T18:09:11.646371",
     "exception": false,
     "start_time": "2022-11-22T18:09:11.621820",
     "status": "completed"
    },
    "tags": []
   },
   "source": [
    "#### Differentiating Independent and dependent features"
   ]
  },
  {
   "cell_type": "code",
   "execution_count": 39,
   "id": "900d5665",
   "metadata": {
    "execution": {
     "iopub.execute_input": "2022-11-22T18:09:11.696464Z",
     "iopub.status.busy": "2022-11-22T18:09:11.696008Z",
     "iopub.status.idle": "2022-11-22T18:09:11.706813Z",
     "shell.execute_reply": "2022-11-22T18:09:11.705401Z"
    },
    "papermill": {
     "duration": 0.03896,
     "end_time": "2022-11-22T18:09:11.709061",
     "exception": false,
     "start_time": "2022-11-22T18:09:11.670101",
     "status": "completed"
    },
    "tags": []
   },
   "outputs": [],
   "source": [
    "X = df1.drop([\"ID\", \"default\"], axis=1)\n",
    "y = df1[\"default\"]"
   ]
  },
  {
   "cell_type": "markdown",
   "id": "4c32147f",
   "metadata": {
    "papermill": {
     "duration": 0.024058,
     "end_time": "2022-11-22T18:09:11.757487",
     "exception": false,
     "start_time": "2022-11-22T18:09:11.733429",
     "status": "completed"
    },
    "tags": []
   },
   "source": [
    "<h2 style=\"color:orange\" align=\"center\">Creating Functions For Model Training And Evaluation"
   ]
  },
  {
   "cell_type": "code",
   "execution_count": 40,
   "id": "16c3d8fd",
   "metadata": {
    "execution": {
     "iopub.execute_input": "2022-11-22T18:09:11.807894Z",
     "iopub.status.busy": "2022-11-22T18:09:11.807360Z",
     "iopub.status.idle": "2022-11-22T18:09:11.813961Z",
     "shell.execute_reply": "2022-11-22T18:09:11.812566Z"
    },
    "papermill": {
     "duration": 0.034703,
     "end_time": "2022-11-22T18:09:11.816387",
     "exception": false,
     "start_time": "2022-11-22T18:09:11.781684",
     "status": "completed"
    },
    "tags": []
   },
   "outputs": [],
   "source": [
    "#### Identifying the defaulter is main task and therefore positive class is more important then negative class\n",
    "def evaluate_clf(true, predicted):\n",
    "    acc = accuracy_score(true, predicted) # Calculate Accuracy\n",
    "    f1 = f1_score(true, predicted) # Calculate F1-score\n",
    "    precision = precision_score(true, predicted) # Calculate Precision\n",
    "    recall = recall_score(true, predicted)  # Calculate Recall\n",
    "    roc_auc = roc_auc_score(true, predicted) #Calculate Roc\n",
    "    return acc, f1 , precision, recall, roc_auc"
   ]
  },
  {
   "cell_type": "code",
   "execution_count": 41,
   "id": "cc849f84",
   "metadata": {
    "execution": {
     "iopub.execute_input": "2022-11-22T18:09:11.868095Z",
     "iopub.status.busy": "2022-11-22T18:09:11.867424Z",
     "iopub.status.idle": "2022-11-22T18:09:11.873529Z",
     "shell.execute_reply": "2022-11-22T18:09:11.872351Z"
    },
    "papermill": {
     "duration": 0.035348,
     "end_time": "2022-11-22T18:09:11.876038",
     "exception": false,
     "start_time": "2022-11-22T18:09:11.840690",
     "status": "completed"
    },
    "tags": []
   },
   "outputs": [],
   "source": [
    "from sklearn.ensemble import GradientBoostingClassifier\n",
    "models = {\n",
    "    \"Random Forest\" : RandomForestClassifier(),\n",
    "    \"Logistic Regression\" : LogisticRegression(),\n",
    "    \"SVM\" : SVC(),\n",
    "    \"Decision Tree\": DecisionTreeClassifier(),\n",
    "    \"Gradient Boosting\": GradientBoostingClassifier(),\n",
    "    \"K-Neighbors Classifier\": KNeighborsClassifier(),\n",
    "    \"XGBClassifier\": XGBClassifier(), \n",
    "}"
   ]
  },
  {
   "cell_type": "code",
   "execution_count": 42,
   "id": "bab083a6",
   "metadata": {
    "execution": {
     "iopub.execute_input": "2022-11-22T18:09:11.927608Z",
     "iopub.status.busy": "2022-11-22T18:09:11.927181Z",
     "iopub.status.idle": "2022-11-22T18:09:12.515851Z",
     "shell.execute_reply": "2022-11-22T18:09:12.514585Z"
    },
    "papermill": {
     "duration": 0.617408,
     "end_time": "2022-11-22T18:09:12.518691",
     "exception": false,
     "start_time": "2022-11-22T18:09:11.901283",
     "status": "completed"
    },
    "tags": []
   },
   "outputs": [],
   "source": [
    " # separate dataset into train and test\n",
    "X_train, X_test, y_train, y_test = train_test_split(X,y,test_size=0.2,random_state=42)\n",
    "    \n",
    "# As we have seen through visualization, we need to transform the numerical columns as those are not having Gaussian Distribution.\n",
    "transformer = ColumnTransformer([(\"Transformed\", PowerTransformer(), num_columns)],remainder=\"passthrough\" )\n",
    "transformer.fit(X_train)\n",
    "\n",
    "columns = num_columns+cat_columns\n",
    "X_train = pd.DataFrame(transformer.transform(X_train), columns = columns)\n",
    "X_test = pd.DataFrame(transformer.transform(X_test), columns = columns)"
   ]
  },
  {
   "cell_type": "code",
   "execution_count": 43,
   "id": "ba1e0ac7",
   "metadata": {
    "execution": {
     "iopub.execute_input": "2022-11-22T18:09:12.569376Z",
     "iopub.status.busy": "2022-11-22T18:09:12.568977Z",
     "iopub.status.idle": "2022-11-22T18:09:12.580571Z",
     "shell.execute_reply": "2022-11-22T18:09:12.579385Z"
    },
    "papermill": {
     "duration": 0.040138,
     "end_time": "2022-11-22T18:09:12.583232",
     "exception": false,
     "start_time": "2022-11-22T18:09:12.543094",
     "status": "completed"
    },
    "tags": []
   },
   "outputs": [],
   "source": [
    "def evaluate_models(X, y, models):\n",
    "    \n",
    "    models_list = []\n",
    "    accuracy_list = []\n",
    "    \n",
    "    for i in range(len(list(models))):\n",
    "        model = list(models.values())[i]\n",
    "        model.fit(X_train, y_train) # Train model\n",
    "\n",
    "        # Make predictions\n",
    "        y_train_pred = model.predict(X_train)\n",
    "        y_test_pred = model.predict(X_test)\n",
    "\n",
    "        # Training set performance\n",
    "        model_train_accuracy, model_train_f1,model_train_precision,\\\n",
    "        model_train_recall,model_train_rocauc_score=evaluate_clf(y_train ,y_train_pred)\n",
    "        \n",
    "        # Test set performance\n",
    "        model_test_accuracy,model_test_f1,model_test_precision,\\\n",
    "        model_test_recall,model_test_rocauc_score=evaluate_clf(y_test, y_test_pred)\n",
    "        \n",
    "        print(list(models.keys())[i])\n",
    "        models_list.append(list(models.keys())[i])\n",
    "\n",
    "        print('Model performance for Training set')\n",
    "        print(\"- Accuracy: {:.4f}\".format(model_train_accuracy))\n",
    "        print('- F1 score: {:.4f}'.format(model_train_f1)) \n",
    "        print('- Precision: {:.4f}'.format(model_train_precision))\n",
    "        print('- Recall: {:.4f}'.format(model_train_recall))\n",
    "        print('- Roc Auc Score: {:.4f}'.format(model_train_rocauc_score))\n",
    "        \n",
    "        print('----------------------------------')\n",
    "\n",
    "        print('Model performance for Test set')\n",
    "        print('- Accuracy: {:.4f}'.format(model_test_accuracy))\n",
    "        print('- F1 score: {:.4f}'.format(model_test_f1))\n",
    "        print('- Precision: {:.4f}'.format(model_test_precision))\n",
    "        print('- Recall: {:.4f}'.format(model_test_recall))\n",
    "        print('- Roc Auc Score: {:.4f}'.format(model_test_rocauc_score))\n",
    "        \n",
    "        print('\\n')\n",
    "        \n",
    "    report=pd.DataFrame(list(models_list), columns=['Model Name'])\n",
    "        \n",
    "    return report"
   ]
  },
  {
   "cell_type": "code",
   "execution_count": 44,
   "id": "ce017403",
   "metadata": {
    "execution": {
     "iopub.execute_input": "2022-11-22T18:09:12.633176Z",
     "iopub.status.busy": "2022-11-22T18:09:12.632749Z",
     "iopub.status.idle": "2022-11-22T18:10:51.518104Z",
     "shell.execute_reply": "2022-11-22T18:10:51.516576Z"
    },
    "papermill": {
     "duration": 98.913377,
     "end_time": "2022-11-22T18:10:51.520955",
     "exception": false,
     "start_time": "2022-11-22T18:09:12.607578",
     "status": "completed"
    },
    "tags": []
   },
   "outputs": [
    {
     "name": "stdout",
     "output_type": "stream",
     "text": [
      "Random Forest\n",
      "Model performance for Training set\n",
      "- Accuracy: 0.9994\n",
      "- F1 score: 0.9987\n",
      "- Precision: 0.9992\n",
      "- Recall: 0.9981\n",
      "- Roc Auc Score: 0.9990\n",
      "----------------------------------\n",
      "Model performance for Test set\n",
      "- Accuracy: 0.8142\n",
      "- F1 score: 0.4558\n",
      "- Precision: 0.6345\n",
      "- Recall: 0.3557\n",
      "- Roc Auc Score: 0.6491\n",
      "\n",
      "\n",
      "Logistic Regression\n",
      "Model performance for Training set\n",
      "- Accuracy: 0.8167\n",
      "- F1 score: 0.4415\n",
      "- Precision: 0.6806\n",
      "- Recall: 0.3267\n",
      "- Roc Auc Score: 0.6415\n",
      "----------------------------------\n",
      "Model performance for Test set\n",
      "- Accuracy: 0.8160\n",
      "- F1 score: 0.4268\n",
      "- Precision: 0.6705\n",
      "- Recall: 0.3130\n",
      "- Roc Auc Score: 0.6350\n",
      "\n",
      "\n",
      "SVM\n",
      "Model performance for Training set\n",
      "- Accuracy: 0.8259\n",
      "- F1 score: 0.4846\n",
      "- Precision: 0.7053\n",
      "- Recall: 0.3692\n",
      "- Roc Auc Score: 0.6626\n",
      "----------------------------------\n",
      "Model performance for Test set\n",
      "- Accuracy: 0.8205\n",
      "- F1 score: 0.4612\n",
      "- Precision: 0.6720\n",
      "- Recall: 0.3511\n",
      "- Roc Auc Score: 0.6515\n",
      "\n",
      "\n",
      "Decision Tree\n",
      "Model performance for Training set\n",
      "- Accuracy: 0.9995\n",
      "- F1 score: 0.9988\n",
      "- Precision: 1.0000\n",
      "- Recall: 0.9976\n",
      "- Roc Auc Score: 0.9988\n",
      "----------------------------------\n",
      "Model performance for Test set\n",
      "- Accuracy: 0.7257\n",
      "- F1 score: 0.3922\n",
      "- Precision: 0.3806\n",
      "- Recall: 0.4044\n",
      "- Roc Auc Score: 0.6100\n",
      "\n",
      "\n",
      "Gradient Boosting\n",
      "Model performance for Training set\n",
      "- Accuracy: 0.8265\n",
      "- F1 score: 0.4928\n",
      "- Precision: 0.7011\n",
      "- Recall: 0.3799\n",
      "- Roc Auc Score: 0.6669\n",
      "----------------------------------\n",
      "Model performance for Test set\n",
      "- Accuracy: 0.8197\n",
      "- F1 score: 0.4628\n",
      "- Precision: 0.6648\n",
      "- Recall: 0.3549\n",
      "- Roc Auc Score: 0.6524\n",
      "\n",
      "\n",
      "K-Neighbors Classifier\n",
      "Model performance for Training set\n",
      "- Accuracy: 0.8444\n",
      "- F1 score: 0.5804\n",
      "- Precision: 0.7221\n",
      "- Recall: 0.4853\n",
      "- Roc Auc Score: 0.7160\n",
      "----------------------------------\n",
      "Model performance for Test set\n",
      "- Accuracy: 0.7920\n",
      "- F1 score: 0.4327\n",
      "- Precision: 0.5366\n",
      "- Recall: 0.3625\n",
      "- Roc Auc Score: 0.6374\n",
      "\n",
      "\n",
      "XGBClassifier\n",
      "Model performance for Training set\n",
      "- Accuracy: 0.8835\n",
      "- F1 score: 0.6762\n",
      "- Precision: 0.8809\n",
      "- Recall: 0.5488\n",
      "- Roc Auc Score: 0.7638\n",
      "----------------------------------\n",
      "Model performance for Test set\n",
      "- Accuracy: 0.8175\n",
      "- F1 score: 0.4753\n",
      "- Precision: 0.6408\n",
      "- Recall: 0.3778\n",
      "- Roc Auc Score: 0.6592\n",
      "\n",
      "\n"
     ]
    }
   ],
   "source": [
    "report_1= evaluate_models(X_train, y_train, models)"
   ]
  },
  {
   "cell_type": "code",
   "execution_count": 45,
   "id": "cc6d6360",
   "metadata": {
    "execution": {
     "iopub.execute_input": "2022-11-22T18:10:51.571510Z",
     "iopub.status.busy": "2022-11-22T18:10:51.571008Z",
     "iopub.status.idle": "2022-11-22T18:10:59.324779Z",
     "shell.execute_reply": "2022-11-22T18:10:59.323304Z"
    },
    "papermill": {
     "duration": 7.782104,
     "end_time": "2022-11-22T18:10:59.327542",
     "exception": false,
     "start_time": "2022-11-22T18:10:51.545438",
     "status": "completed"
    },
    "tags": []
   },
   "outputs": [
    {
     "data": {
      "text/plain": [
       "RandomForestClassifier()"
      ]
     },
     "execution_count": 45,
     "metadata": {},
     "output_type": "execute_result"
    }
   ],
   "source": [
    "final_model = RandomForestClassifier()\n",
    "final_model.fit(X_train, y_train)"
   ]
  },
  {
   "cell_type": "code",
   "execution_count": 46,
   "id": "d5dc2a1c",
   "metadata": {
    "execution": {
     "iopub.execute_input": "2022-11-22T18:10:59.379406Z",
     "iopub.status.busy": "2022-11-22T18:10:59.378674Z",
     "iopub.status.idle": "2022-11-22T18:10:59.561940Z",
     "shell.execute_reply": "2022-11-22T18:10:59.560504Z"
    },
    "papermill": {
     "duration": 0.212543,
     "end_time": "2022-11-22T18:10:59.565212",
     "exception": false,
     "start_time": "2022-11-22T18:10:59.352669",
     "status": "completed"
    },
    "tags": []
   },
   "outputs": [],
   "source": [
    "y_predicted = final_model.predict(X_test)"
   ]
  },
  {
   "cell_type": "code",
   "execution_count": 47,
   "id": "c9bc1bd5",
   "metadata": {
    "execution": {
     "iopub.execute_input": "2022-11-22T18:10:59.619721Z",
     "iopub.status.busy": "2022-11-22T18:10:59.619071Z",
     "iopub.status.idle": "2022-11-22T18:11:00.229266Z",
     "shell.execute_reply": "2022-11-22T18:11:00.227946Z"
    },
    "papermill": {
     "duration": 0.639284,
     "end_time": "2022-11-22T18:11:00.231832",
     "exception": false,
     "start_time": "2022-11-22T18:10:59.592548",
     "status": "completed"
    },
    "tags": []
   },
   "outputs": [
    {
     "data": {
      "text/plain": [
       "0.9994583333333333"
      ]
     },
     "execution_count": 47,
     "metadata": {},
     "output_type": "execute_result"
    }
   ],
   "source": [
    "final_model.score(X_train, y_train)"
   ]
  },
  {
   "cell_type": "code",
   "execution_count": 48,
   "id": "eae2d2af",
   "metadata": {
    "execution": {
     "iopub.execute_input": "2022-11-22T18:11:00.283414Z",
     "iopub.status.busy": "2022-11-22T18:11:00.282978Z",
     "iopub.status.idle": "2022-11-22T18:11:00.291582Z",
     "shell.execute_reply": "2022-11-22T18:11:00.290792Z"
    },
    "papermill": {
     "duration": 0.036907,
     "end_time": "2022-11-22T18:11:00.293763",
     "exception": false,
     "start_time": "2022-11-22T18:11:00.256856",
     "status": "completed"
    },
    "tags": []
   },
   "outputs": [
    {
     "data": {
      "text/plain": [
       "0.8168333333333333"
      ]
     },
     "execution_count": 48,
     "metadata": {},
     "output_type": "execute_result"
    }
   ],
   "source": [
    "accuracy_score(y_test, y_predicted)"
   ]
  },
  {
   "cell_type": "code",
   "execution_count": 49,
   "id": "6c68aee5",
   "metadata": {
    "execution": {
     "iopub.execute_input": "2022-11-22T18:11:00.346376Z",
     "iopub.status.busy": "2022-11-22T18:11:00.345618Z",
     "iopub.status.idle": "2022-11-22T18:11:00.364431Z",
     "shell.execute_reply": "2022-11-22T18:11:00.363328Z"
    },
    "papermill": {
     "duration": 0.048189,
     "end_time": "2022-11-22T18:11:00.367075",
     "exception": false,
     "start_time": "2022-11-22T18:11:00.318886",
     "status": "completed"
    },
    "tags": []
   },
   "outputs": [
    {
     "name": "stdout",
     "output_type": "stream",
     "text": [
      "              precision    recall  f1-score   support\n",
      "\n",
      "           0       0.84      0.94      0.89      4687\n",
      "           1       0.64      0.36      0.47      1313\n",
      "\n",
      "    accuracy                           0.82      6000\n",
      "   macro avg       0.74      0.65      0.68      6000\n",
      "weighted avg       0.80      0.82      0.80      6000\n",
      "\n"
     ]
    }
   ],
   "source": [
    "print(classification_report(y_test, y_predicted))"
   ]
  },
  {
   "cell_type": "code",
   "execution_count": 50,
   "id": "69a9f6db",
   "metadata": {
    "execution": {
     "iopub.execute_input": "2022-11-22T18:11:00.418477Z",
     "iopub.status.busy": "2022-11-22T18:11:00.417698Z",
     "iopub.status.idle": "2022-11-22T18:11:00.857800Z",
     "shell.execute_reply": "2022-11-22T18:11:00.856605Z"
    },
    "papermill": {
     "duration": 0.468907,
     "end_time": "2022-11-22T18:11:00.860631",
     "exception": false,
     "start_time": "2022-11-22T18:11:00.391724",
     "status": "completed"
    },
    "tags": []
   },
   "outputs": [
    {
     "data": {
      "image/png": "[encoded data removed]",
      "text/plain": [
       "<Figure size 720x432 with 2 Axes>"
      ]
     },
     "metadata": {
      "needs_background": "light"
     },
     "output_type": "display_data"
    }
   ],
   "source": [
    "plot_confusion_matrix(final_model, X_test, y_test);"
   ]
  },
  {
   "cell_type": "markdown",
   "id": "70b2c6ae",
   "metadata": {
    "papermill": {
     "duration": 0.026752,
     "end_time": "2022-11-22T18:11:00.914487",
     "exception": false,
     "start_time": "2022-11-22T18:11:00.887735",
     "status": "completed"
    },
    "tags": []
   },
   "source": [
    "<h3 style=\"color:orange\" align=\"center\"> After Oversampling"
   ]
  },
  {
   "cell_type": "code",
   "execution_count": 51,
   "id": "167db7ac",
   "metadata": {
    "execution": {
     "iopub.execute_input": "2022-11-22T18:11:00.970212Z",
     "iopub.status.busy": "2022-11-22T18:11:00.969793Z",
     "iopub.status.idle": "2022-11-22T18:11:00.975870Z",
     "shell.execute_reply": "2022-11-22T18:11:00.974489Z"
    },
    "papermill": {
     "duration": 0.03669,
     "end_time": "2022-11-22T18:11:00.978465",
     "exception": false,
     "start_time": "2022-11-22T18:11:00.941775",
     "status": "completed"
    },
    "tags": []
   },
   "outputs": [],
   "source": [
    "over_sam = SMOTETomek(sampling_strategy=\"minority\", random_state=42)"
   ]
  },
  {
   "cell_type": "code",
   "execution_count": 52,
   "id": "4a5bae31",
   "metadata": {
    "execution": {
     "iopub.execute_input": "2022-11-22T18:11:01.034376Z",
     "iopub.status.busy": "2022-11-22T18:11:01.033913Z",
     "iopub.status.idle": "2022-11-22T18:11:28.747136Z",
     "shell.execute_reply": "2022-11-22T18:11:28.746098Z"
    },
    "papermill": {
     "duration": 27.744873,
     "end_time": "2022-11-22T18:11:28.749930",
     "exception": false,
     "start_time": "2022-11-22T18:11:01.005057",
     "status": "completed"
    },
    "tags": []
   },
   "outputs": [],
   "source": [
    "X_res, y_res = over_sam.fit_resample(X, y)"
   ]
  },
  {
   "cell_type": "code",
   "execution_count": 53,
   "id": "0ec6fffb",
   "metadata": {
    "execution": {
     "iopub.execute_input": "2022-11-22T18:11:28.802968Z",
     "iopub.status.busy": "2022-11-22T18:11:28.802571Z",
     "iopub.status.idle": "2022-11-22T18:11:29.611200Z",
     "shell.execute_reply": "2022-11-22T18:11:29.610146Z"
    },
    "papermill": {
     "duration": 0.838715,
     "end_time": "2022-11-22T18:11:29.613926",
     "exception": false,
     "start_time": "2022-11-22T18:11:28.775211",
     "status": "completed"
    },
    "tags": []
   },
   "outputs": [],
   "source": [
    " # separate dataset into train and test\n",
    "X_train, X_test, y_train, y_test = train_test_split(X_res,y_res,test_size=0.2,random_state=42)\n",
    "    \n",
    "# As we have seen through visualization, we need to transform the numerical columns as those are not having Gaussian Distribution.\n",
    "transformer = ColumnTransformer([(\"Transformed\", PowerTransformer(), num_columns)],remainder=\"passthrough\" )\n",
    "transformer.fit(X_train)\n",
    "\n",
    "columns = num_columns+cat_columns\n",
    "X_train = pd.DataFrame(transformer.transform(X_train), columns = columns)\n",
    "X_test = pd.DataFrame(transformer.transform(X_test), columns = columns)"
   ]
  },
  {
   "cell_type": "code",
   "execution_count": 54,
   "id": "269c7a1d",
   "metadata": {
    "execution": {
     "iopub.execute_input": "2022-11-22T18:11:29.666370Z",
     "iopub.status.busy": "2022-11-22T18:11:29.665986Z",
     "iopub.status.idle": "2022-11-22T18:15:02.380277Z",
     "shell.execute_reply": "2022-11-22T18:15:02.378561Z"
    },
    "papermill": {
     "duration": 212.743523,
     "end_time": "2022-11-22T18:15:02.382717",
     "exception": false,
     "start_time": "2022-11-22T18:11:29.639194",
     "status": "completed"
    },
    "tags": []
   },
   "outputs": [
    {
     "name": "stdout",
     "output_type": "stream",
     "text": [
      "Random Forest\n",
      "Model performance for Training set\n",
      "- Accuracy: 0.9995\n",
      "- F1 score: 0.9995\n",
      "- Precision: 0.9994\n",
      "- Recall: 0.9995\n",
      "- Roc Auc Score: 0.9995\n",
      "----------------------------------\n",
      "Model performance for Test set\n",
      "- Accuracy: 0.8391\n",
      "- F1 score: 0.8371\n",
      "- Precision: 0.8475\n",
      "- Recall: 0.8270\n",
      "- Roc Auc Score: 0.8391\n",
      "\n",
      "\n",
      "Logistic Regression\n",
      "Model performance for Training set\n",
      "- Accuracy: 0.7331\n",
      "- F1 score: 0.7255\n",
      "- Precision: 0.7468\n",
      "- Recall: 0.7054\n",
      "- Roc Auc Score: 0.7331\n",
      "----------------------------------\n",
      "Model performance for Test set\n",
      "- Accuracy: 0.7304\n",
      "- F1 score: 0.7220\n",
      "- Precision: 0.7450\n",
      "- Recall: 0.7003\n",
      "- Roc Auc Score: 0.7304\n",
      "\n",
      "\n",
      "SVM\n",
      "Model performance for Training set\n",
      "- Accuracy: 0.7808\n",
      "- F1 score: 0.7705\n",
      "- Precision: 0.8087\n",
      "- Recall: 0.7358\n",
      "- Roc Auc Score: 0.7808\n",
      "----------------------------------\n",
      "Model performance for Test set\n",
      "- Accuracy: 0.7701\n",
      "- F1 score: 0.7589\n",
      "- Precision: 0.7973\n",
      "- Recall: 0.7241\n",
      "- Roc Auc Score: 0.7700\n",
      "\n",
      "\n",
      "Decision Tree\n",
      "Model performance for Training set\n",
      "- Accuracy: 0.9995\n",
      "- F1 score: 0.9995\n",
      "- Precision: 0.9997\n",
      "- Recall: 0.9992\n",
      "- Roc Auc Score: 0.9995\n",
      "----------------------------------\n",
      "Model performance for Test set\n",
      "- Accuracy: 0.7496\n",
      "- F1 score: 0.7552\n",
      "- Precision: 0.7386\n",
      "- Recall: 0.7724\n",
      "- Roc Auc Score: 0.7496\n",
      "\n",
      "\n",
      "Gradient Boosting\n",
      "Model performance for Training set\n",
      "- Accuracy: 0.7845\n",
      "- F1 score: 0.7764\n",
      "- Precision: 0.8067\n",
      "- Recall: 0.7484\n",
      "- Roc Auc Score: 0.7845\n",
      "----------------------------------\n",
      "Model performance for Test set\n",
      "- Accuracy: 0.7758\n",
      "- F1 score: 0.7674\n",
      "- Precision: 0.7970\n",
      "- Recall: 0.7399\n",
      "- Roc Auc Score: 0.7758\n",
      "\n",
      "\n",
      "K-Neighbors Classifier\n",
      "Model performance for Training set\n",
      "- Accuracy: 0.8587\n",
      "- F1 score: 0.8625\n",
      "- Precision: 0.8397\n",
      "- Recall: 0.8866\n",
      "- Roc Auc Score: 0.8587\n",
      "----------------------------------\n",
      "Model performance for Test set\n",
      "- Accuracy: 0.7806\n",
      "- F1 score: 0.7877\n",
      "- Precision: 0.7630\n",
      "- Recall: 0.8140\n",
      "- Roc Auc Score: 0.7806\n",
      "\n",
      "\n",
      "XGBClassifier\n",
      "Model performance for Training set\n",
      "- Accuracy: 0.8899\n",
      "- F1 score: 0.8880\n",
      "- Precision: 0.9041\n",
      "- Recall: 0.8723\n",
      "- Roc Auc Score: 0.8899\n",
      "----------------------------------\n",
      "Model performance for Test set\n",
      "- Accuracy: 0.8180\n",
      "- F1 score: 0.8125\n",
      "- Precision: 0.8374\n",
      "- Recall: 0.7891\n",
      "- Roc Auc Score: 0.8180\n",
      "\n",
      "\n"
     ]
    }
   ],
   "source": [
    "report_2= evaluate_models(X_train, y_train, models)"
   ]
  },
  {
   "cell_type": "code",
   "execution_count": 55,
   "id": "46189e68",
   "metadata": {
    "execution": {
     "iopub.execute_input": "2022-11-22T18:15:02.437700Z",
     "iopub.status.busy": "2022-11-22T18:15:02.436765Z",
     "iopub.status.idle": "2022-11-22T18:15:13.795970Z",
     "shell.execute_reply": "2022-11-22T18:15:13.794734Z"
    },
    "papermill": {
     "duration": 11.38986,
     "end_time": "2022-11-22T18:15:13.799074",
     "exception": false,
     "start_time": "2022-11-22T18:15:02.409214",
     "status": "completed"
    },
    "tags": []
   },
   "outputs": [
    {
     "data": {
      "text/plain": [
       "RandomForestClassifier()"
      ]
     },
     "execution_count": 55,
     "metadata": {},
     "output_type": "execute_result"
    }
   ],
   "source": [
    "final_model = RandomForestClassifier()\n",
    "final_model.fit(X_train, y_train)"
   ]
  },
  {
   "cell_type": "code",
   "execution_count": 56,
   "id": "0b0c02f5",
   "metadata": {
    "execution": {
     "iopub.execute_input": "2022-11-22T18:15:13.852683Z",
     "iopub.status.busy": "2022-11-22T18:15:13.852265Z",
     "iopub.status.idle": "2022-11-22T18:15:14.136024Z",
     "shell.execute_reply": "2022-11-22T18:15:14.134848Z"
    },
    "papermill": {
     "duration": 0.313875,
     "end_time": "2022-11-22T18:15:14.139037",
     "exception": false,
     "start_time": "2022-11-22T18:15:13.825162",
     "status": "completed"
    },
    "tags": []
   },
   "outputs": [],
   "source": [
    "y_predicted = final_model.predict(X_test)"
   ]
  },
  {
   "cell_type": "code",
   "execution_count": 57,
   "id": "826156cf",
   "metadata": {
    "execution": {
     "iopub.execute_input": "2022-11-22T18:15:14.194261Z",
     "iopub.status.busy": "2022-11-22T18:15:14.193835Z",
     "iopub.status.idle": "2022-11-22T18:15:15.200995Z",
     "shell.execute_reply": "2022-11-22T18:15:15.199947Z"
    },
    "papermill": {
     "duration": 1.037723,
     "end_time": "2022-11-22T18:15:15.203482",
     "exception": false,
     "start_time": "2022-11-22T18:15:14.165759",
     "status": "completed"
    },
    "tags": []
   },
   "outputs": [
    {
     "data": {
      "text/plain": [
       "0.9994504286656408"
      ]
     },
     "execution_count": 57,
     "metadata": {},
     "output_type": "execute_result"
    }
   ],
   "source": [
    "final_model.score(X_train, y_train)"
   ]
  },
  {
   "cell_type": "code",
   "execution_count": 58,
   "id": "09a03faf",
   "metadata": {
    "execution": {
     "iopub.execute_input": "2022-11-22T18:15:15.257819Z",
     "iopub.status.busy": "2022-11-22T18:15:15.257148Z",
     "iopub.status.idle": "2022-11-22T18:15:15.265693Z",
     "shell.execute_reply": "2022-11-22T18:15:15.264548Z"
    },
    "papermill": {
     "duration": 0.038322,
     "end_time": "2022-11-22T18:15:15.268046",
     "exception": false,
     "start_time": "2022-11-22T18:15:15.229724",
     "status": "completed"
    },
    "tags": []
   },
   "outputs": [
    {
     "data": {
      "text/plain": [
       "0.8404044845020884"
      ]
     },
     "execution_count": 58,
     "metadata": {},
     "output_type": "execute_result"
    }
   ],
   "source": [
    "accuracy_score(y_test, y_predicted)"
   ]
  },
  {
   "cell_type": "code",
   "execution_count": 59,
   "id": "8331ef43",
   "metadata": {
    "execution": {
     "iopub.execute_input": "2022-11-22T18:15:15.321120Z",
     "iopub.status.busy": "2022-11-22T18:15:15.320713Z",
     "iopub.status.idle": "2022-11-22T18:15:15.347358Z",
     "shell.execute_reply": "2022-11-22T18:15:15.346336Z"
    },
    "papermill": {
     "duration": 0.056921,
     "end_time": "2022-11-22T18:15:15.350544",
     "exception": false,
     "start_time": "2022-11-22T18:15:15.293623",
     "status": "completed"
    },
    "tags": []
   },
   "outputs": [
    {
     "name": "stdout",
     "output_type": "stream",
     "text": [
      "              precision    recall  f1-score   support\n",
      "\n",
      "           0       0.83      0.85      0.84      4550\n",
      "           1       0.85      0.83      0.84      4548\n",
      "\n",
      "    accuracy                           0.84      9098\n",
      "   macro avg       0.84      0.84      0.84      9098\n",
      "weighted avg       0.84      0.84      0.84      9098\n",
      "\n"
     ]
    }
   ],
   "source": [
    "print(classification_report(y_test, y_predicted))"
   ]
  },
  {
   "cell_type": "code",
   "execution_count": 60,
   "id": "1ffd64c0",
   "metadata": {
    "execution": {
     "iopub.execute_input": "2022-11-22T18:15:15.404604Z",
     "iopub.status.busy": "2022-11-22T18:15:15.403537Z",
     "iopub.status.idle": "2022-11-22T18:15:15.951905Z",
     "shell.execute_reply": "2022-11-22T18:15:15.950668Z"
    },
    "papermill": {
     "duration": 0.57763,
     "end_time": "2022-11-22T18:15:15.954408",
     "exception": false,
     "start_time": "2022-11-22T18:15:15.376778",
     "status": "completed"
    },
    "tags": []
   },
   "outputs": [
    {
     "data": {
      "image/png": "[encoded data removed]",
      "text/plain": [
       "<Figure size 720x432 with 2 Axes>"
      ]
     },
     "metadata": {
      "needs_background": "light"
     },
     "output_type": "display_data"
    }
   ],
   "source": [
    "plot_confusion_matrix(final_model, X_test, y_test);"
   ]
  },
  {
   "cell_type": "markdown",
   "id": "bcc539e4",
   "metadata": {
    "papermill": {
     "duration": 0.026046,
     "end_time": "2022-11-22T18:15:16.006403",
     "exception": false,
     "start_time": "2022-11-22T18:15:15.980357",
     "status": "completed"
    },
    "tags": []
   },
   "source": [
    "<h1 style=\"color:orange\" align=\"center\"> Choosing Random Forest as the Final Model."
   ]
  }
 ],
 "metadata": {
  "kernelspec": {
   "display_name": "Python 3 (ipykernel)",
   "language": "python",
   "name": "python3"
  },
  "language_info": {
   "codemirror_mode": {
    "name": "ipython",
    "version": 3
   },
   "file_extension": ".py",
   "mimetype": "text/x-python",
   "name": "python",
   "nbconvert_exporter": "python",
   "pygments_lexer": "ipython3",
   "version": "3.9.7"
  },
  "papermill": {
   "default_parameters": {},
   "duration": 388.221665,
   "end_time": "2022-11-22T18:15:16.956322",
   "environment_variables": {},
   "exception": null,
   "input_path": "__notebook__.ipynb",
   "output_path": "__notebook__.ipynb",
   "parameters": {},
   "start_time": "2022-11-22T18:08:48.734657",
   "version": "2.3.4"
  }
 },
 "nbformat": 4,
 "nbformat_minor": 5
}
